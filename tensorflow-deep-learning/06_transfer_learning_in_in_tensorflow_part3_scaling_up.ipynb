{
 "cells": [
  {
   "cell_type": "markdown",
   "id": "d2dd4b8c",
   "metadata": {},
   "source": [
    "## Transfer Learning with TensorFlow Part 3: Scaling up (Food Vision mini)\n",
    "\n",
    "We've seen the power of transfer learning feature extractin and fine-tuning, now it's time to scale up to all the classes in Food101 (101 total classes of food).\n",
    "\n",
    "Our goal is to beat the original Food101 paper with 10% of the traning (leveraging the power of deep learning).\n",
    "\n",
    "Original Food101 paper: https://data.vision.ee.ethz.ch/cvl/datasets_extra/food-101/static/bossard_eccv14_food-101.pdf\n",
    "\n",
    "Our baseline to beat is 50.76% accuracy across 101 classes."
   ]
  }
 ],
 "metadata": {
  "language_info": {
   "name": "python"
  }
 },
 "nbformat": 4,
 "nbformat_minor": 5
}
