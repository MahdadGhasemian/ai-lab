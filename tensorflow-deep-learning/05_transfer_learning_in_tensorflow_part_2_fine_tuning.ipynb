{
  "cells": [
    {
      "cell_type": "markdown",
      "id": "ed94a3f2",
      "metadata": {
        "id": "ed94a3f2"
      },
      "source": [
        "# 05. Transfer Learning with TensorFlow Part 2: Fine-tuning\n"
      ]
    },
    {
      "cell_type": "markdown",
      "source": [
        "## Warming"
      ],
      "metadata": {
        "id": "KeBLdtsoOS2P"
      },
      "id": "KeBLdtsoOS2P"
    },
    {
      "cell_type": "code",
      "source": [
        "import tensorflow as tf\n",
        "\n",
        "print(f\"Tensorflow version: {tf.__version__}\")"
      ],
      "metadata": {
        "id": "W4sbsFnGOVXO",
        "outputId": "46c3cbc9-7eb1-4c68-f938-afb5101f3857",
        "colab": {
          "base_uri": "https://localhost:8080/"
        }
      },
      "id": "W4sbsFnGOVXO",
      "execution_count": 1,
      "outputs": [
        {
          "output_type": "stream",
          "name": "stdout",
          "text": [
            "Tensorflow version: 2.19.0\n"
          ]
        }
      ]
    },
    {
      "cell_type": "code",
      "source": [
        "# Are we using a GPU ?\n",
        "!nvidia-smi"
      ],
      "metadata": {
        "id": "4gcEPQJSOii9",
        "outputId": "0f2dcfe5-dfc9-48a2-8451-427b3b80386a",
        "colab": {
          "base_uri": "https://localhost:8080/"
        }
      },
      "id": "4gcEPQJSOii9",
      "execution_count": 2,
      "outputs": [
        {
          "metadata": {
            "tags": null
          },
          "name": "stdout",
          "output_type": "stream",
          "text": [
            "Mon Sep 15 11:55:04 2025       \n",
            "+-----------------------------------------------------------------------------------------+\n",
            "| NVIDIA-SMI 550.54.15              Driver Version: 550.54.15      CUDA Version: 12.4     |\n",
            "|-----------------------------------------+------------------------+----------------------+\n",
            "| GPU  Name                 Persistence-M | Bus-Id          Disp.A | Volatile Uncorr. ECC |\n",
            "| Fan  Temp   Perf          Pwr:Usage/Cap |           Memory-Usage | GPU-Util  Compute M. |\n",
            "|                                         |                        |               MIG M. |\n",
            "|=========================================+========================+======================|\n",
            "|   0  Tesla T4                       Off |   00000000:00:04.0 Off |                    0 |\n",
            "| N/A   43C    P8              9W /   70W |       0MiB /  15360MiB |      0%      Default |\n",
            "|                                         |                        |                  N/A |\n",
            "+-----------------------------------------+------------------------+----------------------+\n",
            "                                                                                         \n",
            "+-----------------------------------------------------------------------------------------+\n",
            "| Processes:                                                                              |\n",
            "|  GPU   GI   CI        PID   Type   Process name                              GPU Memory |\n",
            "|        ID   ID                                                               Usage      |\n",
            "|=========================================================================================|\n",
            "|  No running processes found                                                             |\n",
            "+-----------------------------------------------------------------------------------------+\n"
          ]
        }
      ]
    },
    {
      "cell_type": "markdown",
      "source": [
        "## Creating Helper Functions\n",
        "\n",
        "Throughout your machine learning expriments, you'll likely come across snippets of code you want to over and over again."
      ],
      "metadata": {
        "id": "kl3Pdc5mOrii"
      },
      "id": "kl3Pdc5mOrii"
    }
  ],
  "metadata": {
    "language_info": {
      "name": "python"
    },
    "colab": {
      "provenance": [],
      "gpuType": "T4"
    },
    "accelerator": "GPU",
    "kernelspec": {
      "name": "python3",
      "display_name": "Python 3"
    }
  },
  "nbformat": 4,
  "nbformat_minor": 5
}