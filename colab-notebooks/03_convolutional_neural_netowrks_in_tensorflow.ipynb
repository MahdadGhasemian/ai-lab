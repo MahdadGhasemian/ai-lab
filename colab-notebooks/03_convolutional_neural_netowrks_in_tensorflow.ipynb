{
 "cells": [
  {
   "cell_type": "markdown",
   "id": "9b645a66",
   "metadata": {},
   "source": [
    "# Introduction to Convolutional Neural Networks and Computer Vision with TensorFlow\n",
    "\n",
    "Computer vision is the practice of writing algorithms which can discover patterns in visual data. Such as the camera of self-driving car recognizing the car in front."
   ]
  },
  {
   "cell_type": "markdown",
   "id": "e1976756",
   "metadata": {},
   "source": [
    "# Get the data"
   ]
  }
 ],
 "metadata": {
  "language_info": {
   "name": "python"
  }
 },
 "nbformat": 4,
 "nbformat_minor": 5
}
