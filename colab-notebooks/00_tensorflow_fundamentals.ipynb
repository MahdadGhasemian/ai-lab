{
  "cells": [
    {
      "cell_type": "markdown",
      "source": [
        "In this notebook, we're going to cover some of the most fundamental concepts of tensors using TensorFlow."
      ],
      "metadata": {
        "id": "B6_RgiHJkvMt"
      },
      "id": "B6_RgiHJkvMt"
    }
  ],
  "metadata": {
    "language_info": {
      "name": "python"
    },
    "colab": {
      "provenance": []
    }
  },
  "nbformat": 4,
  "nbformat_minor": 5
}