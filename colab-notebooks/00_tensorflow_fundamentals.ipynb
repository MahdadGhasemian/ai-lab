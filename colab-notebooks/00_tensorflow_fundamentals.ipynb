{
  "cells": [
    {
      "cell_type": "markdown",
      "source": [
        "# In this notebook, we're going to cover some of the most fundamental concepts of tensors using TensorFlow.\n",
        "\n",
        "More specifically, we're goign to cover:\n",
        "* Introduction to tensors\n",
        "* Getting informatino from tensors\n",
        "* Manipulating tensors\n",
        "* Tensors & NumPy\n",
        "* Using @tf.function\n",
        "* Using GPUs with TensorFlow (or TPUs)\n"
      ],
      "metadata": {
        "id": "B6_RgiHJkvMt"
      },
      "id": "B6_RgiHJkvMt"
    },
    {
      "cell_type": "markdown",
      "source": [
        "## Introduction to Tnesors"
      ],
      "metadata": {
        "id": "E41RHUrQN8ZV"
      },
      "id": "E41RHUrQN8ZV"
    },
    {
      "cell_type": "code",
      "source": [
        "# Improt TensorFlow\n",
        "import tensorflow as tf\n",
        "print(tf.__version__)"
      ],
      "metadata": {
        "id": "UJuaVLefN_Cz",
        "outputId": "5f707657-ecd7-4fb5-b2cb-a545d2262295",
        "colab": {
          "base_uri": "https://localhost:8080/"
        }
      },
      "id": "UJuaVLefN_Cz",
      "execution_count": 1,
      "outputs": [
        {
          "output_type": "stream",
          "name": "stdout",
          "text": [
            "2.19.0\n"
          ]
        }
      ]
    },
    {
      "cell_type": "code",
      "source": [
        "# Create tensors with tf.constant()\n",
        "scalar = tf.constant(7)\n",
        "scalar"
      ],
      "metadata": {
        "id": "C6IN7O26Oig0",
        "outputId": "217580ea-0888-4f23-ce1b-a61a926e0d05",
        "colab": {
          "base_uri": "https://localhost:8080/"
        }
      },
      "id": "C6IN7O26Oig0",
      "execution_count": 2,
      "outputs": [
        {
          "output_type": "execute_result",
          "data": {
            "text/plain": [
              "<tf.Tensor: shape=(), dtype=int32, numpy=7>"
            ]
          },
          "metadata": {},
          "execution_count": 2
        }
      ]
    },
    {
      "cell_type": "code",
      "source": [
        "# Check the number of dimensions of a tensor (ndim stands for number of dimentions)\n",
        "scalar.ndim"
      ],
      "metadata": {
        "id": "GMZVdCiFPQyU",
        "outputId": "b08c1eaa-bdfe-4378-cdcd-1f71b29baeef",
        "colab": {
          "base_uri": "https://localhost:8080/"
        }
      },
      "id": "GMZVdCiFPQyU",
      "execution_count": 3,
      "outputs": [
        {
          "output_type": "execute_result",
          "data": {
            "text/plain": [
              "0"
            ]
          },
          "metadata": {},
          "execution_count": 3
        }
      ]
    },
    {
      "cell_type": "code",
      "source": [
        "# create a vector\n",
        "vector = tf.constant([10,10])\n",
        "vector"
      ],
      "metadata": {
        "id": "-cCbFB4VPqRQ",
        "outputId": "b7844e21-d6aa-464c-8639-af2e612f8eb8",
        "colab": {
          "base_uri": "https://localhost:8080/"
        }
      },
      "id": "-cCbFB4VPqRQ",
      "execution_count": 4,
      "outputs": [
        {
          "output_type": "execute_result",
          "data": {
            "text/plain": [
              "<tf.Tensor: shape=(2,), dtype=int32, numpy=array([10, 10], dtype=int32)>"
            ]
          },
          "metadata": {},
          "execution_count": 4
        }
      ]
    },
    {
      "cell_type": "code",
      "source": [
        "# Check the dimension of our vector\n",
        "vector.ndim"
      ],
      "metadata": {
        "id": "iCL7Mv1RP4Se",
        "outputId": "b2e5ccad-17b7-4684-869d-876da9811e5c",
        "colab": {
          "base_uri": "https://localhost:8080/"
        }
      },
      "id": "iCL7Mv1RP4Se",
      "execution_count": 5,
      "outputs": [
        {
          "output_type": "execute_result",
          "data": {
            "text/plain": [
              "1"
            ]
          },
          "metadata": {},
          "execution_count": 5
        }
      ]
    },
    {
      "cell_type": "code",
      "source": [
        "# Create a matric (has more than 1 dimension)\n",
        "matrix = tf.constant([[10,7],\n",
        "                      [7,10]])\n",
        "matrix"
      ],
      "metadata": {
        "id": "aBl7tjj8P-iQ",
        "outputId": "0a3847c8-ff2e-4e8e-90f3-863f1ac7f03d",
        "colab": {
          "base_uri": "https://localhost:8080/"
        }
      },
      "id": "aBl7tjj8P-iQ",
      "execution_count": 6,
      "outputs": [
        {
          "output_type": "execute_result",
          "data": {
            "text/plain": [
              "<tf.Tensor: shape=(2, 2), dtype=int32, numpy=\n",
              "array([[10,  7],\n",
              "       [ 7, 10]], dtype=int32)>"
            ]
          },
          "metadata": {},
          "execution_count": 6
        }
      ]
    },
    {
      "cell_type": "code",
      "source": [
        "matrix.ndim"
      ],
      "metadata": {
        "id": "245kBRJPQYX6",
        "outputId": "c5129888-94a4-4e25-b429-1c32714a105e",
        "colab": {
          "base_uri": "https://localhost:8080/"
        }
      },
      "id": "245kBRJPQYX6",
      "execution_count": 7,
      "outputs": [
        {
          "output_type": "execute_result",
          "data": {
            "text/plain": [
              "2"
            ]
          },
          "metadata": {},
          "execution_count": 7
        }
      ]
    },
    {
      "cell_type": "code",
      "source": [
        "# Create another matrix\n",
        "another_matrix = tf.constant([[10.,7.],\n",
        "                              [3.,2.],\n",
        "                              [8.,9.]], dtype=tf.float16)\n",
        "another_matrix"
      ],
      "metadata": {
        "id": "lTaZhk2LRByA",
        "outputId": "d73f3d29-ad71-479d-ca78-6bf39fe372f7",
        "colab": {
          "base_uri": "https://localhost:8080/"
        }
      },
      "id": "lTaZhk2LRByA",
      "execution_count": 8,
      "outputs": [
        {
          "output_type": "execute_result",
          "data": {
            "text/plain": [
              "<tf.Tensor: shape=(3, 2), dtype=float16, numpy=\n",
              "array([[10.,  7.],\n",
              "       [ 3.,  2.],\n",
              "       [ 8.,  9.]], dtype=float16)>"
            ]
          },
          "metadata": {},
          "execution_count": 8
        }
      ]
    },
    {
      "cell_type": "code",
      "source": [
        "another_matrix.ndim"
      ],
      "metadata": {
        "id": "MUPCvBSqRey9",
        "outputId": "ec7f98d9-3be8-4646-daca-86e5802df8d8",
        "colab": {
          "base_uri": "https://localhost:8080/"
        }
      },
      "id": "MUPCvBSqRey9",
      "execution_count": 9,
      "outputs": [
        {
          "output_type": "execute_result",
          "data": {
            "text/plain": [
              "2"
            ]
          },
          "metadata": {},
          "execution_count": 9
        }
      ]
    },
    {
      "cell_type": "code",
      "source": [
        "# Create a tensor\n",
        "tensor = tf.constant([\n",
        "    [[1, 2, 3], [4, 5, 6]],\n",
        "    [[7, 8, 9], [10, 11, 12]],\n",
        "    [[13, 14, 15], [16, 17, 18]]\n",
        "])\n",
        "tensor"
      ],
      "metadata": {
        "id": "fZRMA6PBWRVu",
        "outputId": "6c8d6a5a-ec2b-4737-8fdd-28b439caf1d9",
        "colab": {
          "base_uri": "https://localhost:8080/"
        }
      },
      "id": "fZRMA6PBWRVu",
      "execution_count": 10,
      "outputs": [
        {
          "output_type": "execute_result",
          "data": {
            "text/plain": [
              "<tf.Tensor: shape=(3, 2, 3), dtype=int32, numpy=\n",
              "array([[[ 1,  2,  3],\n",
              "        [ 4,  5,  6]],\n",
              "\n",
              "       [[ 7,  8,  9],\n",
              "        [10, 11, 12]],\n",
              "\n",
              "       [[13, 14, 15],\n",
              "        [16, 17, 18]]], dtype=int32)>"
            ]
          },
          "metadata": {},
          "execution_count": 10
        }
      ]
    },
    {
      "cell_type": "code",
      "source": [
        "tensor.ndim"
      ],
      "metadata": {
        "id": "7tPfGfDdXF-t",
        "outputId": "3f93582f-c1a4-47c1-ea1d-f7cf693fd889",
        "colab": {
          "base_uri": "https://localhost:8080/"
        }
      },
      "id": "7tPfGfDdXF-t",
      "execution_count": 11,
      "outputs": [
        {
          "output_type": "execute_result",
          "data": {
            "text/plain": [
              "3"
            ]
          },
          "metadata": {},
          "execution_count": 11
        }
      ]
    },
    {
      "cell_type": "code",
      "source": [
        "What we've created so far:\n",
        "* Scalar: a single number\n",
        "* Vector: a number with direction (e.g. wind speed and direction)\n",
        "* Matrix: a 2-dimensional array of numbers\n",
        "* Tensor: an n-dimensional array of numbers"
      ],
      "metadata": {
        "id": "qGsV73akX40t"
      },
      "id": "qGsV73akX40t",
      "execution_count": null,
      "outputs": []
    }
  ],
  "metadata": {
    "language_info": {
      "name": "python"
    },
    "colab": {
      "provenance": []
    },
    "kernelspec": {
      "name": "python3",
      "display_name": "Python 3"
    }
  },
  "nbformat": 4,
  "nbformat_minor": 5
}