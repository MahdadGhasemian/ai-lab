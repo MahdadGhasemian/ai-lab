{
  "cells": [
    {
      "cell_type": "markdown",
      "source": [
        "# In this notebook, we're going to cover some of the most fundamental concepts of tensors using TensorFlow.\n",
        "\n",
        "More specifically, we're goign to cover:\n",
        "* Introduction to tensors\n",
        "* Getting informatino from tensors\n",
        "* Manipulating tensors\n",
        "* Tensors & NumPy\n",
        "* Using @tf.function\n",
        "* Using GPUs with TensorFlow (or TPUs)\n"
      ],
      "metadata": {
        "id": "B6_RgiHJkvMt"
      },
      "id": "B6_RgiHJkvMt"
    }
  ],
  "metadata": {
    "language_info": {
      "name": "python"
    },
    "colab": {
      "provenance": []
    }
  },
  "nbformat": 4,
  "nbformat_minor": 5
}