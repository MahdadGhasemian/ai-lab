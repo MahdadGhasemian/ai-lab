{
  "cells": [
    {
      "cell_type": "markdown",
      "source": [
        "# In this notebook, we're going to cover some of the most fundamental concepts of tensors using TensorFlow.\n",
        "\n",
        "More specifically, we're goign to cover:\n",
        "* Introduction to tensors\n",
        "* Getting informatino from tensors\n",
        "* Manipulating tensors\n",
        "* Tensors & NumPy\n",
        "* Using @tf.function\n",
        "* Using GPUs with TensorFlow (or TPUs)\n"
      ],
      "metadata": {
        "id": "B6_RgiHJkvMt"
      },
      "id": "B6_RgiHJkvMt"
    },
    {
      "cell_type": "markdown",
      "source": [
        "## Introduction to Tnesors"
      ],
      "metadata": {
        "id": "E41RHUrQN8ZV"
      },
      "id": "E41RHUrQN8ZV"
    },
    {
      "cell_type": "code",
      "source": [
        "# Improt TensorFlow\n",
        "import tensorflow as tf\n",
        "print(tf.__version__)"
      ],
      "metadata": {
        "colab": {
          "base_uri": "https://localhost:8080/"
        },
        "id": "UJuaVLefN_Cz",
        "outputId": "3327c015-c327-4e3d-819a-addc2376c8dd"
      },
      "id": "UJuaVLefN_Cz",
      "execution_count": 2,
      "outputs": [
        {
          "output_type": "stream",
          "name": "stdout",
          "text": [
            "2.19.0\n"
          ]
        }
      ]
    },
    {
      "cell_type": "code",
      "source": [
        "# Create tensors with tf.constant()\n",
        "scalar = tf.constant(7)\n",
        "scalar"
      ],
      "metadata": {
        "colab": {
          "base_uri": "https://localhost:8080/"
        },
        "id": "C6IN7O26Oig0",
        "outputId": "c86092b5-a875-41f3-ff2b-d44dafa80e29"
      },
      "id": "C6IN7O26Oig0",
      "execution_count": 3,
      "outputs": [
        {
          "output_type": "execute_result",
          "data": {
            "text/plain": [
              "<tf.Tensor: shape=(), dtype=int32, numpy=7>"
            ]
          },
          "metadata": {},
          "execution_count": 3
        }
      ]
    },
    {
      "cell_type": "code",
      "source": [
        "# Check the number of dimensions of a tensor (ndim stands for number of dimentions)\n",
        "scalar.ndim"
      ],
      "metadata": {
        "colab": {
          "base_uri": "https://localhost:8080/"
        },
        "id": "GMZVdCiFPQyU",
        "outputId": "65520aa1-6a57-410b-d9b2-e4f4aff6f19e"
      },
      "id": "GMZVdCiFPQyU",
      "execution_count": 4,
      "outputs": [
        {
          "output_type": "execute_result",
          "data": {
            "text/plain": [
              "0"
            ]
          },
          "metadata": {},
          "execution_count": 4
        }
      ]
    },
    {
      "cell_type": "code",
      "source": [
        "# create a vector\n",
        "vector = tf.constant([10,10])\n",
        "vector"
      ],
      "metadata": {
        "colab": {
          "base_uri": "https://localhost:8080/"
        },
        "id": "-cCbFB4VPqRQ",
        "outputId": "2ec05cc2-2f87-4b9a-cd9e-e4fce7e908f8"
      },
      "id": "-cCbFB4VPqRQ",
      "execution_count": 5,
      "outputs": [
        {
          "output_type": "execute_result",
          "data": {
            "text/plain": [
              "<tf.Tensor: shape=(2,), dtype=int32, numpy=array([10, 10], dtype=int32)>"
            ]
          },
          "metadata": {},
          "execution_count": 5
        }
      ]
    },
    {
      "cell_type": "code",
      "source": [
        "# Check the dimension of our vector\n",
        "vector.ndim"
      ],
      "metadata": {
        "colab": {
          "base_uri": "https://localhost:8080/"
        },
        "id": "iCL7Mv1RP4Se",
        "outputId": "720d2de0-0479-4c4e-9a18-bb0ce6099399"
      },
      "id": "iCL7Mv1RP4Se",
      "execution_count": 6,
      "outputs": [
        {
          "output_type": "execute_result",
          "data": {
            "text/plain": [
              "1"
            ]
          },
          "metadata": {},
          "execution_count": 6
        }
      ]
    },
    {
      "cell_type": "code",
      "source": [
        "# Create a matric (has more than 1 dimension)\n",
        "matrix = tf.constant([[10,7],\n",
        "                      [7,10]])\n",
        "matrix"
      ],
      "metadata": {
        "colab": {
          "base_uri": "https://localhost:8080/"
        },
        "id": "aBl7tjj8P-iQ",
        "outputId": "92b13550-2430-423a-e747-14dc234d8d7c"
      },
      "id": "aBl7tjj8P-iQ",
      "execution_count": 7,
      "outputs": [
        {
          "output_type": "execute_result",
          "data": {
            "text/plain": [
              "<tf.Tensor: shape=(2, 2), dtype=int32, numpy=\n",
              "array([[10,  7],\n",
              "       [ 7, 10]], dtype=int32)>"
            ]
          },
          "metadata": {},
          "execution_count": 7
        }
      ]
    },
    {
      "cell_type": "code",
      "source": [
        "matrix.ndim"
      ],
      "metadata": {
        "colab": {
          "base_uri": "https://localhost:8080/"
        },
        "id": "245kBRJPQYX6",
        "outputId": "2b27a6ac-f9b1-4544-da0f-8347478f2c2f"
      },
      "id": "245kBRJPQYX6",
      "execution_count": 8,
      "outputs": [
        {
          "output_type": "execute_result",
          "data": {
            "text/plain": [
              "2"
            ]
          },
          "metadata": {},
          "execution_count": 8
        }
      ]
    },
    {
      "cell_type": "code",
      "source": [
        "# Create another matrix\n",
        "another_matrix = tf.constant([[10.,7.],\n",
        "                              [3.,2.],\n",
        "                              [8.,9.]], dtype=tf.float16)\n",
        "another_matrix"
      ],
      "metadata": {
        "colab": {
          "base_uri": "https://localhost:8080/"
        },
        "id": "lTaZhk2LRByA",
        "outputId": "d3671bab-26a3-4a2b-ff1c-d968eea75786"
      },
      "id": "lTaZhk2LRByA",
      "execution_count": 9,
      "outputs": [
        {
          "output_type": "execute_result",
          "data": {
            "text/plain": [
              "<tf.Tensor: shape=(3, 2), dtype=float16, numpy=\n",
              "array([[10.,  7.],\n",
              "       [ 3.,  2.],\n",
              "       [ 8.,  9.]], dtype=float16)>"
            ]
          },
          "metadata": {},
          "execution_count": 9
        }
      ]
    },
    {
      "cell_type": "code",
      "source": [
        "another_matrix.ndim"
      ],
      "metadata": {
        "colab": {
          "base_uri": "https://localhost:8080/"
        },
        "id": "MUPCvBSqRey9",
        "outputId": "bb9bf0c6-a3e6-4107-ba09-2943b08f73a1"
      },
      "id": "MUPCvBSqRey9",
      "execution_count": 10,
      "outputs": [
        {
          "output_type": "execute_result",
          "data": {
            "text/plain": [
              "2"
            ]
          },
          "metadata": {},
          "execution_count": 10
        }
      ]
    },
    {
      "cell_type": "code",
      "source": [
        "# Create a tensor\n",
        "tensor = tf.constant([\n",
        "    [[1, 2, 3], [4, 5, 6]],\n",
        "    [[7, 8, 9], [10, 11, 12]],\n",
        "    [[13, 14, 15], [16, 17, 18]]\n",
        "])\n",
        "tensor"
      ],
      "metadata": {
        "colab": {
          "base_uri": "https://localhost:8080/"
        },
        "id": "fZRMA6PBWRVu",
        "outputId": "fc6ec939-8183-4dfe-db1a-b8f28019566d"
      },
      "id": "fZRMA6PBWRVu",
      "execution_count": 11,
      "outputs": [
        {
          "output_type": "execute_result",
          "data": {
            "text/plain": [
              "<tf.Tensor: shape=(3, 2, 3), dtype=int32, numpy=\n",
              "array([[[ 1,  2,  3],\n",
              "        [ 4,  5,  6]],\n",
              "\n",
              "       [[ 7,  8,  9],\n",
              "        [10, 11, 12]],\n",
              "\n",
              "       [[13, 14, 15],\n",
              "        [16, 17, 18]]], dtype=int32)>"
            ]
          },
          "metadata": {},
          "execution_count": 11
        }
      ]
    },
    {
      "cell_type": "code",
      "source": [
        "tensor.ndim"
      ],
      "metadata": {
        "colab": {
          "base_uri": "https://localhost:8080/"
        },
        "id": "7tPfGfDdXF-t",
        "outputId": "cb1aadb6-4bd9-4f68-c281-0a00d676f6b0"
      },
      "id": "7tPfGfDdXF-t",
      "execution_count": 12,
      "outputs": [
        {
          "output_type": "execute_result",
          "data": {
            "text/plain": [
              "3"
            ]
          },
          "metadata": {},
          "execution_count": 12
        }
      ]
    },
    {
      "cell_type": "markdown",
      "source": [
        "What we've created so far:\n",
        "* Scalar: a single number\n",
        "* Vector: a number with direction (e.g. wind speed and direction)\n",
        "* Matrix: a 2-dimensional array of numbers\n",
        "* Tensor: an n-dimensional array of numbers"
      ],
      "metadata": {
        "id": "Nj4Rx3DEYZaB"
      },
      "id": "Nj4Rx3DEYZaB"
    },
    {
      "cell_type": "markdown",
      "source": [
        "## Creating tensors with `tf.Variable`"
      ],
      "metadata": {
        "id": "4RSXN7QubcWc"
      },
      "id": "4RSXN7QubcWc"
    },
    {
      "cell_type": "code",
      "source": [
        "# Create the same tensor with tf.Variable() as above\n",
        "changeable_tensor = tf.Variable([10,7])\n",
        "unchangeable_tensor = tf.constant([10,7])\n",
        "changeable_tensor, unchangeable_tensor"
      ],
      "metadata": {
        "colab": {
          "base_uri": "https://localhost:8080/"
        },
        "id": "-bVaF1_kbokC",
        "outputId": "fbf35be2-aed2-43a0-dba0-981bfdff85b7"
      },
      "id": "-bVaF1_kbokC",
      "execution_count": 13,
      "outputs": [
        {
          "output_type": "execute_result",
          "data": {
            "text/plain": [
              "(<tf.Variable 'Variable:0' shape=(2,) dtype=int32, numpy=array([10,  7], dtype=int32)>,\n",
              " <tf.Tensor: shape=(2,), dtype=int32, numpy=array([10,  7], dtype=int32)>)"
            ]
          },
          "metadata": {},
          "execution_count": 13
        }
      ]
    },
    {
      "cell_type": "code",
      "source": [
        "# Let's try change one of the elements in our changeable tensor\n",
        "changeable_tensor[0] = 7\n",
        "changeable_tensor"
      ],
      "metadata": {
        "colab": {
          "base_uri": "https://localhost:8080/",
          "height": 176
        },
        "id": "qlEzdblnbyYT",
        "outputId": "f931c664-e2c8-4279-f219-e288f3d14c9b"
      },
      "id": "qlEzdblnbyYT",
      "execution_count": 15,
      "outputs": [
        {
          "output_type": "error",
          "ename": "TypeError",
          "evalue": "'ResourceVariable' object does not support item assignment",
          "traceback": [
            "\u001b[0;31m---------------------------------------------------------------------------\u001b[0m",
            "\u001b[0;31mTypeError\u001b[0m                                 Traceback (most recent call last)",
            "\u001b[0;32m/tmp/ipython-input-2599061607.py\u001b[0m in \u001b[0;36m<cell line: 0>\u001b[0;34m()\u001b[0m\n\u001b[1;32m      1\u001b[0m \u001b[0;31m# Let's try change one of the elements in our changeable tensor\u001b[0m\u001b[0;34m\u001b[0m\u001b[0;34m\u001b[0m\u001b[0m\n\u001b[0;32m----> 2\u001b[0;31m \u001b[0mchangeable_tensor\u001b[0m\u001b[0;34m[\u001b[0m\u001b[0;36m0\u001b[0m\u001b[0;34m]\u001b[0m \u001b[0;34m=\u001b[0m \u001b[0;36m7\u001b[0m\u001b[0;34m\u001b[0m\u001b[0;34m\u001b[0m\u001b[0m\n\u001b[0m\u001b[1;32m      3\u001b[0m \u001b[0mchangeable_tensor\u001b[0m\u001b[0;34m\u001b[0m\u001b[0;34m\u001b[0m\u001b[0m\n",
            "\u001b[0;31mTypeError\u001b[0m: 'ResourceVariable' object does not support item assignment"
          ]
        }
      ]
    },
    {
      "cell_type": "code",
      "source": [
        "# How about we try .assign()\n",
        "changeable_tensor[0].assign(7)\n",
        "changeable_tensor"
      ],
      "metadata": {
        "colab": {
          "base_uri": "https://localhost:8080/"
        },
        "id": "cmhGbeUbcQvj",
        "outputId": "47677229-1507-4472-dd41-b7cf4aa7c2ff"
      },
      "id": "cmhGbeUbcQvj",
      "execution_count": 16,
      "outputs": [
        {
          "output_type": "execute_result",
          "data": {
            "text/plain": [
              "<tf.Variable 'Variable:0' shape=(2,) dtype=int32, numpy=array([7, 7], dtype=int32)>"
            ]
          },
          "metadata": {},
          "execution_count": 16
        }
      ]
    },
    {
      "cell_type": "markdown",
      "source": [
        "🔑 **Note:** Rarely in practice will you need to decide whether to use `tf.constanct` or `tf.Variable` to create tensors, as TensorFlow does this for you.\n",
        "However, if in doubt, use `tf.constant` and change it later if needed."
      ],
      "metadata": {
        "id": "So4EqQYfdSHK"
      },
      "id": "So4EqQYfdSHK"
    },
    {
      "cell_type": "markdown",
      "source": [
        "### Creating random tensors\n",
        "Random tensors are tensors of some arbitrary size which contain random number."
      ],
      "metadata": {
        "id": "Do5WaiMkdG3Q"
      },
      "id": "Do5WaiMkdG3Q"
    },
    {
      "cell_type": "code",
      "source": [
        "# Create two random (but the same) tensors\n",
        "random_1 = tf.random.Generator.from_seed(42)\n",
        "random_1 = random_1.normal(shape=(3, 4))\n",
        "random_2 = tf.random.Generator.from_seed(42)\n",
        "random_2 = random_2.normal(shape=(3, 4))\n",
        "\n",
        "# Are they equal?\n",
        "random_1, random_2, random_1 == random_2"
      ],
      "metadata": {
        "colab": {
          "base_uri": "https://localhost:8080/"
        },
        "id": "XW7XeHB0f-wN",
        "outputId": "44612bde-b7b9-4ecf-a3ea-d2bb8098bdc0"
      },
      "id": "XW7XeHB0f-wN",
      "execution_count": 17,
      "outputs": [
        {
          "output_type": "execute_result",
          "data": {
            "text/plain": [
              "(<tf.Tensor: shape=(3, 4), dtype=float32, numpy=\n",
              " array([[-0.7565803 , -0.06854702,  0.07595026, -1.2573844 ],\n",
              "        [-0.23193763, -1.8107855 ,  0.09988727, -0.50998646],\n",
              "        [-0.7535805 , -0.57166284,  0.1480774 , -0.23362993]],\n",
              "       dtype=float32)>,\n",
              " <tf.Tensor: shape=(3, 4), dtype=float32, numpy=\n",
              " array([[-0.7565803 , -0.06854702,  0.07595026, -1.2573844 ],\n",
              "        [-0.23193763, -1.8107855 ,  0.09988727, -0.50998646],\n",
              "        [-0.7535805 , -0.57166284,  0.1480774 , -0.23362993]],\n",
              "       dtype=float32)>,\n",
              " <tf.Tensor: shape=(3, 4), dtype=bool, numpy=\n",
              " array([[ True,  True,  True,  True],\n",
              "        [ True,  True,  True,  True],\n",
              "        [ True,  True,  True,  True]])>)"
            ]
          },
          "metadata": {},
          "execution_count": 17
        }
      ]
    },
    {
      "cell_type": "markdown",
      "source": [
        "### Shuffle the order of elements in a tensor"
      ],
      "metadata": {
        "id": "q61EdjgLmEE7"
      },
      "id": "q61EdjgLmEE7"
    },
    {
      "cell_type": "markdown",
      "source": [
        "It looks like if we want our shuffled tensors to be in the same order, we've got to use the global level random seed as well as the operation level random seed:\n",
        "> Rule 4: If both the global and the operation seed are set: Both seeds are used in conjuction to determine the random sequence."
      ],
      "metadata": {
        "id": "qCw71EO4rbyr"
      },
      "id": "qCw71EO4rbyr"
    },
    {
      "cell_type": "code",
      "source": [
        "# Shuffle a tensor (valuable for when you want to shuffle your data so the inherent order doesn't effect learning)\n",
        "not_shuffled = tf.constant([\n",
        "    [10, 7], [1, 2], [9, 3]\n",
        "])\n",
        "\n",
        "# not_shuffled\n",
        "\n",
        "# Shuffle our non-shuffled tensor\n",
        "tf.random.shuffle(not_shuffled, seed=42)"
      ],
      "metadata": {
        "colab": {
          "base_uri": "https://localhost:8080/"
        },
        "id": "2UVxLJVSl2uT",
        "outputId": "5ed86a04-be52-4f35-80cf-8441d7bc28c7"
      },
      "id": "2UVxLJVSl2uT",
      "execution_count": 18,
      "outputs": [
        {
          "output_type": "execute_result",
          "data": {
            "text/plain": [
              "<tf.Tensor: shape=(3, 2), dtype=int32, numpy=\n",
              "array([[ 9,  3],\n",
              "       [ 1,  2],\n",
              "       [10,  7]], dtype=int32)>"
            ]
          },
          "metadata": {},
          "execution_count": 18
        }
      ]
    },
    {
      "cell_type": "markdown",
      "source": [
        "### Other ways to make tensors"
      ],
      "metadata": {
        "id": "2VoDEFBDsbpA"
      },
      "id": "2VoDEFBDsbpA"
    },
    {
      "cell_type": "code",
      "source": [
        "# Create a tensor of all ones\n",
        "tf.ones([10, 7])"
      ],
      "metadata": {
        "colab": {
          "base_uri": "https://localhost:8080/"
        },
        "id": "Xl4Jr1lfssH3",
        "outputId": "3ed37391-dc23-414d-f36e-138cdd5969dc"
      },
      "id": "Xl4Jr1lfssH3",
      "execution_count": 19,
      "outputs": [
        {
          "output_type": "execute_result",
          "data": {
            "text/plain": [
              "<tf.Tensor: shape=(10, 7), dtype=float32, numpy=\n",
              "array([[1., 1., 1., 1., 1., 1., 1.],\n",
              "       [1., 1., 1., 1., 1., 1., 1.],\n",
              "       [1., 1., 1., 1., 1., 1., 1.],\n",
              "       [1., 1., 1., 1., 1., 1., 1.],\n",
              "       [1., 1., 1., 1., 1., 1., 1.],\n",
              "       [1., 1., 1., 1., 1., 1., 1.],\n",
              "       [1., 1., 1., 1., 1., 1., 1.],\n",
              "       [1., 1., 1., 1., 1., 1., 1.],\n",
              "       [1., 1., 1., 1., 1., 1., 1.],\n",
              "       [1., 1., 1., 1., 1., 1., 1.]], dtype=float32)>"
            ]
          },
          "metadata": {},
          "execution_count": 19
        }
      ]
    },
    {
      "cell_type": "code",
      "source": [
        "# Create a tensor of all zeroes\n",
        "tf.zeros(shape=(3, 4))"
      ],
      "metadata": {
        "colab": {
          "base_uri": "https://localhost:8080/"
        },
        "id": "A3b_wBi3s1-e",
        "outputId": "373c7cc2-4798-45fe-a35e-84cd75979c5f"
      },
      "id": "A3b_wBi3s1-e",
      "execution_count": 20,
      "outputs": [
        {
          "output_type": "execute_result",
          "data": {
            "text/plain": [
              "<tf.Tensor: shape=(3, 4), dtype=float32, numpy=\n",
              "array([[0., 0., 0., 0.],\n",
              "       [0., 0., 0., 0.],\n",
              "       [0., 0., 0., 0.]], dtype=float32)>"
            ]
          },
          "metadata": {},
          "execution_count": 20
        }
      ]
    },
    {
      "cell_type": "markdown",
      "source": [
        "### Turn NumPy arrays into tensors\n",
        "The main difference between NumPy arrays and TensorFlow tensors is that tensors can be run on a GPU (much faster for numerical computing)."
      ],
      "metadata": {
        "id": "fmoCkEAztRyf"
      },
      "id": "fmoCkEAztRyf"
    },
    {
      "cell_type": "code",
      "source": [
        "# Turn NumPy arrays into tensors\n",
        "import numpy as np\n",
        "numpy_A = np.arange(1, 25, dtype=np.int32) # create a NumPy array between 1 and 25\n",
        "numpy_A\n",
        "\n",
        "# X = tf.constant(some_matrix) # capital for matrix or tensor\n",
        "# y = tf.constant(vactor) # non-capical for vector"
      ],
      "metadata": {
        "colab": {
          "base_uri": "https://localhost:8080/"
        },
        "id": "tjWRo2h1tMeY",
        "outputId": "0c6bc9ee-4415-4464-9c47-e465e7192965"
      },
      "id": "tjWRo2h1tMeY",
      "execution_count": 21,
      "outputs": [
        {
          "output_type": "execute_result",
          "data": {
            "text/plain": [
              "array([ 1,  2,  3,  4,  5,  6,  7,  8,  9, 10, 11, 12, 13, 14, 15, 16, 17,\n",
              "       18, 19, 20, 21, 22, 23, 24], dtype=int32)"
            ]
          },
          "metadata": {},
          "execution_count": 21
        }
      ]
    },
    {
      "cell_type": "code",
      "source": [
        "A = tf.constant(numpy_A)\n",
        "B = tf.constant(numpy_A, shape=(2, 3, 4))\n",
        "A, B"
      ],
      "metadata": {
        "colab": {
          "base_uri": "https://localhost:8080/"
        },
        "id": "On45N24R20A8",
        "outputId": "4bee5770-36cc-4094-9246-436769880670"
      },
      "id": "On45N24R20A8",
      "execution_count": 22,
      "outputs": [
        {
          "output_type": "execute_result",
          "data": {
            "text/plain": [
              "(<tf.Tensor: shape=(24,), dtype=int32, numpy=\n",
              " array([ 1,  2,  3,  4,  5,  6,  7,  8,  9, 10, 11, 12, 13, 14, 15, 16, 17,\n",
              "        18, 19, 20, 21, 22, 23, 24], dtype=int32)>,\n",
              " <tf.Tensor: shape=(2, 3, 4), dtype=int32, numpy=\n",
              " array([[[ 1,  2,  3,  4],\n",
              "         [ 5,  6,  7,  8],\n",
              "         [ 9, 10, 11, 12]],\n",
              " \n",
              "        [[13, 14, 15, 16],\n",
              "         [17, 18, 19, 20],\n",
              "         [21, 22, 23, 24]]], dtype=int32)>)"
            ]
          },
          "metadata": {},
          "execution_count": 22
        }
      ]
    },
    {
      "cell_type": "markdown",
      "source": [
        "## Getting information from tensors\n",
        "* Shape\n",
        "* Rank\n",
        "* Axis or Dimention\n",
        "* Size"
      ],
      "metadata": {
        "id": "Z4PpqBZ329Be"
      },
      "id": "Z4PpqBZ329Be"
    },
    {
      "cell_type": "code",
      "source": [
        "# Create a rank 4 tensor (4 dimentions)\n",
        "numpy_rank_4_test = np.arange(1, 121, dtype=np.float32)\n",
        "rank_4_tensor = tf.constant(numpy_rank_4_test, shape=[2, 3, 4, 5])\n",
        "rank_4_tensor"
      ],
      "metadata": {
        "colab": {
          "base_uri": "https://localhost:8080/"
        },
        "id": "mYJUs9Xa4V6S",
        "outputId": "7c2c7159-f572-4a39-80b0-d2ca0d428487"
      },
      "id": "mYJUs9Xa4V6S",
      "execution_count": 23,
      "outputs": [
        {
          "output_type": "execute_result",
          "data": {
            "text/plain": [
              "<tf.Tensor: shape=(2, 3, 4, 5), dtype=float32, numpy=\n",
              "array([[[[  1.,   2.,   3.,   4.,   5.],\n",
              "         [  6.,   7.,   8.,   9.,  10.],\n",
              "         [ 11.,  12.,  13.,  14.,  15.],\n",
              "         [ 16.,  17.,  18.,  19.,  20.]],\n",
              "\n",
              "        [[ 21.,  22.,  23.,  24.,  25.],\n",
              "         [ 26.,  27.,  28.,  29.,  30.],\n",
              "         [ 31.,  32.,  33.,  34.,  35.],\n",
              "         [ 36.,  37.,  38.,  39.,  40.]],\n",
              "\n",
              "        [[ 41.,  42.,  43.,  44.,  45.],\n",
              "         [ 46.,  47.,  48.,  49.,  50.],\n",
              "         [ 51.,  52.,  53.,  54.,  55.],\n",
              "         [ 56.,  57.,  58.,  59.,  60.]]],\n",
              "\n",
              "\n",
              "       [[[ 61.,  62.,  63.,  64.,  65.],\n",
              "         [ 66.,  67.,  68.,  69.,  70.],\n",
              "         [ 71.,  72.,  73.,  74.,  75.],\n",
              "         [ 76.,  77.,  78.,  79.,  80.]],\n",
              "\n",
              "        [[ 81.,  82.,  83.,  84.,  85.],\n",
              "         [ 86.,  87.,  88.,  89.,  90.],\n",
              "         [ 91.,  92.,  93.,  94.,  95.],\n",
              "         [ 96.,  97.,  98.,  99., 100.]],\n",
              "\n",
              "        [[101., 102., 103., 104., 105.],\n",
              "         [106., 107., 108., 109., 110.],\n",
              "         [111., 112., 113., 114., 115.],\n",
              "         [116., 117., 118., 119., 120.]]]], dtype=float32)>"
            ]
          },
          "metadata": {},
          "execution_count": 23
        }
      ]
    },
    {
      "cell_type": "code",
      "source": [
        "rank_4_tensor.shape, rank_4_tensor.ndim, tf.size(rank_4_tensor)"
      ],
      "metadata": {
        "colab": {
          "base_uri": "https://localhost:8080/"
        },
        "id": "5gwB-YLS5-sD",
        "outputId": "2aabe03c-48f8-4ab0-9387-804bb007bfbb"
      },
      "id": "5gwB-YLS5-sD",
      "execution_count": 25,
      "outputs": [
        {
          "output_type": "execute_result",
          "data": {
            "text/plain": [
              "(TensorShape([2, 3, 4, 5]), 4, <tf.Tensor: shape=(), dtype=int32, numpy=120>)"
            ]
          },
          "metadata": {},
          "execution_count": 25
        }
      ]
    },
    {
      "cell_type": "code",
      "source": [
        "# Get various attraibutes of our tensor\n",
        "print(\"Datatype of every element:\", rank_4_tensor.dtype)\n",
        "print(\"Number of dimensions (rank):\", rank_4_tensor.ndim)\n",
        "print(\"Shape of tensor:\", rank_4_tensor.shape)\n",
        "print(\"Elements along the 0 azis:\", rank_4_tensor.shape[0])\n",
        "print(\"Elements along the last axis:\", rank_4_tensor.shape[-1])\n",
        "print(\"Total number of elements in our tensor:\", tf.size(rank_4_tensor))\n",
        "print(\"Total number of elements in our tensor:\", tf.size(rank_4_tensor).numpy())"
      ],
      "metadata": {
        "colab": {
          "base_uri": "https://localhost:8080/"
        },
        "id": "iaWn84GF6uLI",
        "outputId": "39c7e914-1c4d-4356-a4eb-c03c1d691155"
      },
      "id": "iaWn84GF6uLI",
      "execution_count": 24,
      "outputs": [
        {
          "output_type": "stream",
          "name": "stdout",
          "text": [
            "Datatype of every element: <dtype: 'float32'>\n",
            "Number of dimensions (rank): 4\n",
            "Shape of tensor: (2, 3, 4, 5)\n",
            "Elements along the 0 azis: 2\n",
            "Elements along the last axis: 5\n",
            "Total number of elements in our tensor: tf.Tensor(120, shape=(), dtype=int32)\n",
            "Total number of elements in our tensor: 120\n"
          ]
        }
      ]
    },
    {
      "cell_type": "markdown",
      "source": [
        "## Indexing tensors\n",
        "\n",
        "Tensors can be indexed just like Python lists."
      ],
      "metadata": {
        "id": "atPFy0bV8uuq"
      },
      "id": "atPFy0bV8uuq"
    },
    {
      "cell_type": "code",
      "source": [
        "some_list = [1, 2, 3, 4]\n",
        "some_list[:2]"
      ],
      "metadata": {
        "colab": {
          "base_uri": "https://localhost:8080/"
        },
        "id": "iCPiYlO39Kfw",
        "outputId": "dcd5d11f-e804-4c24-9c2d-b915b63c64b6"
      },
      "id": "iCPiYlO39Kfw",
      "execution_count": 26,
      "outputs": [
        {
          "output_type": "execute_result",
          "data": {
            "text/plain": [
              "[1, 2]"
            ]
          },
          "metadata": {},
          "execution_count": 26
        }
      ]
    },
    {
      "cell_type": "code",
      "source": [
        "# Get the first 2 elements of each dimention\n",
        "rank_4_tensor[:2, :2, :2, :2]"
      ],
      "metadata": {
        "colab": {
          "base_uri": "https://localhost:8080/"
        },
        "id": "N8H1bY3J80YD",
        "outputId": "bf3cd014-6df4-4d60-fc11-4d8933e95c86"
      },
      "id": "N8H1bY3J80YD",
      "execution_count": 27,
      "outputs": [
        {
          "output_type": "execute_result",
          "data": {
            "text/plain": [
              "<tf.Tensor: shape=(2, 2, 2, 2), dtype=float32, numpy=\n",
              "array([[[[ 1.,  2.],\n",
              "         [ 6.,  7.]],\n",
              "\n",
              "        [[21., 22.],\n",
              "         [26., 27.]]],\n",
              "\n",
              "\n",
              "       [[[61., 62.],\n",
              "         [66., 67.]],\n",
              "\n",
              "        [[81., 82.],\n",
              "         [86., 87.]]]], dtype=float32)>"
            ]
          },
          "metadata": {},
          "execution_count": 27
        }
      ]
    },
    {
      "cell_type": "code",
      "source": [
        "some_list[:1]"
      ],
      "metadata": {
        "colab": {
          "base_uri": "https://localhost:8080/"
        },
        "id": "IR9YFz4P91Op",
        "outputId": "0650bedd-5583-4cae-cea8-4344fca2ad3d"
      },
      "id": "IR9YFz4P91Op",
      "execution_count": 28,
      "outputs": [
        {
          "output_type": "execute_result",
          "data": {
            "text/plain": [
              "[1]"
            ]
          },
          "metadata": {},
          "execution_count": 28
        }
      ]
    },
    {
      "cell_type": "code",
      "source": [
        "# Get the first element from each dimension from each index except for the final one\n",
        "rank_4_tensor[:1, :1, :1]"
      ],
      "metadata": {
        "colab": {
          "base_uri": "https://localhost:8080/"
        },
        "id": "UuNwgwkq9nJY",
        "outputId": "dfed3251-4726-43d2-8dd5-37d8234a5c2d"
      },
      "id": "UuNwgwkq9nJY",
      "execution_count": 29,
      "outputs": [
        {
          "output_type": "execute_result",
          "data": {
            "text/plain": [
              "<tf.Tensor: shape=(1, 1, 1, 5), dtype=float32, numpy=array([[[[1., 2., 3., 4., 5.]]]], dtype=float32)>"
            ]
          },
          "metadata": {},
          "execution_count": 29
        }
      ]
    },
    {
      "cell_type": "code",
      "source": [
        "rank_4_tensor[:1, :1, :, :1]"
      ],
      "metadata": {
        "id": "7t50eaSRASsC"
      },
      "id": "7t50eaSRASsC",
      "execution_count": null,
      "outputs": []
    },
    {
      "cell_type": "code",
      "source": [
        "# Create a rank 2 tensor (2 dimensions)\n",
        "rank_2_tensor = tf.constant([[10, 7],\n",
        "                             [3, 4]])\n",
        "rank_2_tensor.shape, rank_2_tensor.ndim"
      ],
      "metadata": {
        "colab": {
          "base_uri": "https://localhost:8080/"
        },
        "id": "C67tiDQjA0dy",
        "outputId": "490f4a48-b3be-44cc-ba90-451f57a5f3ca"
      },
      "id": "C67tiDQjA0dy",
      "execution_count": 30,
      "outputs": [
        {
          "output_type": "execute_result",
          "data": {
            "text/plain": [
              "(TensorShape([2, 2]), 2)"
            ]
          },
          "metadata": {},
          "execution_count": 30
        }
      ]
    },
    {
      "cell_type": "code",
      "source": [
        "# Get the last items of each of our rank 2 tensor\n",
        "rank_2_tensor[:, -1]"
      ],
      "metadata": {
        "colab": {
          "base_uri": "https://localhost:8080/"
        },
        "id": "dGnb48-WBEhH",
        "outputId": "02fc909b-a58a-4dbd-958d-0c4c1291edca"
      },
      "id": "dGnb48-WBEhH",
      "execution_count": 34,
      "outputs": [
        {
          "output_type": "execute_result",
          "data": {
            "text/plain": [
              "<tf.Tensor: shape=(2,), dtype=int32, numpy=array([7, 4], dtype=int32)>"
            ]
          },
          "metadata": {},
          "execution_count": 34
        }
      ]
    },
    {
      "cell_type": "code",
      "source": [
        "# Add in extra dimention to our rank 2 tensor\n",
        "rank_3_tensor = rank_2_tensor[..., tf.newaxis]\n",
        "rank_3_tensor"
      ],
      "metadata": {
        "colab": {
          "base_uri": "https://localhost:8080/"
        },
        "id": "KIyNYnN1CNxG",
        "outputId": "e0aa971e-f42a-4ef8-b982-fd8a76b423b3"
      },
      "id": "KIyNYnN1CNxG",
      "execution_count": 33,
      "outputs": [
        {
          "output_type": "execute_result",
          "data": {
            "text/plain": [
              "<tf.Tensor: shape=(2, 2, 1), dtype=int32, numpy=\n",
              "array([[[10],\n",
              "        [ 7]],\n",
              "\n",
              "       [[ 3],\n",
              "        [ 4]]], dtype=int32)>"
            ]
          },
          "metadata": {},
          "execution_count": 33
        }
      ]
    },
    {
      "cell_type": "code",
      "source": [
        "# Alternative to tf.newaxis\n",
        "tf.expand_dims(rank_2_tensor, axis=-1) # \"-1\" means expand the final axis"
      ],
      "metadata": {
        "colab": {
          "base_uri": "https://localhost:8080/"
        },
        "id": "NQ1zZFh9C07A",
        "outputId": "34c4dac3-9fba-4a93-9e13-fad61c7a9974"
      },
      "id": "NQ1zZFh9C07A",
      "execution_count": 31,
      "outputs": [
        {
          "output_type": "execute_result",
          "data": {
            "text/plain": [
              "<tf.Tensor: shape=(2, 2, 1), dtype=int32, numpy=\n",
              "array([[[10],\n",
              "        [ 7]],\n",
              "\n",
              "       [[ 3],\n",
              "        [ 4]]], dtype=int32)>"
            ]
          },
          "metadata": {},
          "execution_count": 31
        }
      ]
    },
    {
      "cell_type": "code",
      "source": [
        "# Expand the 0-axis\n",
        "tf.expand_dims(rank_2_tensor, axis=0) # expand the 0-axis"
      ],
      "metadata": {
        "colab": {
          "base_uri": "https://localhost:8080/"
        },
        "id": "EZ4y46s0DJm4",
        "outputId": "0ee40c29-6da1-48de-c36a-9c83120a6da4"
      },
      "id": "EZ4y46s0DJm4",
      "execution_count": 32,
      "outputs": [
        {
          "output_type": "execute_result",
          "data": {
            "text/plain": [
              "<tf.Tensor: shape=(1, 2, 2), dtype=int32, numpy=\n",
              "array([[[10,  7],\n",
              "        [ 3,  4]]], dtype=int32)>"
            ]
          },
          "metadata": {},
          "execution_count": 32
        }
      ]
    },
    {
      "cell_type": "markdown",
      "source": [
        "## Manipulating tensors (tensor operation)\n",
        "\n",
        "**Basic Operations**\n",
        "\n",
        "`+`,`-`,`*`,`/`"
      ],
      "metadata": {
        "id": "4DVO1MsEDapb"
      },
      "id": "4DVO1MsEDapb"
    },
    {
      "cell_type": "code",
      "source": [
        "tensor = tf.constant([[10, 7], [3, 4]])\n",
        "tensor + 10"
      ],
      "metadata": {
        "colab": {
          "base_uri": "https://localhost:8080/"
        },
        "id": "lAFCdkh6HqyV",
        "outputId": "1a931e21-f76e-4280-8415-d28dea651cf8"
      },
      "id": "lAFCdkh6HqyV",
      "execution_count": 35,
      "outputs": [
        {
          "output_type": "execute_result",
          "data": {
            "text/plain": [
              "<tf.Tensor: shape=(2, 2), dtype=int32, numpy=\n",
              "array([[20, 17],\n",
              "       [13, 14]], dtype=int32)>"
            ]
          },
          "metadata": {},
          "execution_count": 35
        }
      ]
    },
    {
      "cell_type": "code",
      "source": [
        "# Multiplation\n",
        "tensor * 10"
      ],
      "metadata": {
        "colab": {
          "base_uri": "https://localhost:8080/"
        },
        "id": "-cXpUMOZIS5x",
        "outputId": "e488707e-e25e-4de9-f871-3f89d6f320f2"
      },
      "id": "-cXpUMOZIS5x",
      "execution_count": 48,
      "outputs": [
        {
          "output_type": "execute_result",
          "data": {
            "text/plain": [
              "<tf.Tensor: shape=(2, 2), dtype=int32, numpy=\n",
              "array([[100,  70],\n",
              "       [ 30,  40]], dtype=int32)>"
            ]
          },
          "metadata": {},
          "execution_count": 48
        }
      ]
    },
    {
      "cell_type": "code",
      "source": [
        "# Subtraction\n",
        "tensor - 10"
      ],
      "metadata": {
        "colab": {
          "base_uri": "https://localhost:8080/"
        },
        "id": "i-gMW7AAIiaD",
        "outputId": "0f7e28ec-0743-4d95-be2b-89b2c786f9a4"
      },
      "id": "i-gMW7AAIiaD",
      "execution_count": 49,
      "outputs": [
        {
          "output_type": "execute_result",
          "data": {
            "text/plain": [
              "<tf.Tensor: shape=(2, 2), dtype=int32, numpy=\n",
              "array([[ 0, -3],\n",
              "       [-7, -6]], dtype=int32)>"
            ]
          },
          "metadata": {},
          "execution_count": 49
        }
      ]
    },
    {
      "cell_type": "code",
      "source": [
        "# Using tensorflow build-in function\n",
        "tf.multiply(tensor, 10)"
      ],
      "metadata": {
        "colab": {
          "base_uri": "https://localhost:8080/"
        },
        "id": "2881Gi-TIuON",
        "outputId": "3fa05e9c-1b58-4354-ea50-a15c117d047b"
      },
      "id": "2881Gi-TIuON",
      "execution_count": 50,
      "outputs": [
        {
          "output_type": "execute_result",
          "data": {
            "text/plain": [
              "<tf.Tensor: shape=(2, 2), dtype=int32, numpy=\n",
              "array([[100,  70],\n",
              "       [ 30,  40]], dtype=int32)>"
            ]
          },
          "metadata": {},
          "execution_count": 50
        }
      ]
    },
    {
      "cell_type": "markdown",
      "source": [
        "**Matrix multiplication**\n",
        "\n",
        "In machine learning, matrix multiplication is one of the most common tensor operations."
      ],
      "metadata": {
        "id": "2RynMe0mJRKk"
      },
      "id": "2RynMe0mJRKk"
    },
    {
      "cell_type": "code",
      "source": [
        "print(tensor)\n",
        "tf.matmul(tensor, tensor)"
      ],
      "metadata": {
        "colab": {
          "base_uri": "https://localhost:8080/"
        },
        "id": "DzP37AQnLsEj",
        "outputId": "e8bce29c-f04f-4160-8e10-dfc0da65cfcb"
      },
      "id": "DzP37AQnLsEj",
      "execution_count": 51,
      "outputs": [
        {
          "output_type": "stream",
          "name": "stdout",
          "text": [
            "tf.Tensor(\n",
            "[[10  7]\n",
            " [ 3  4]], shape=(2, 2), dtype=int32)\n"
          ]
        },
        {
          "output_type": "execute_result",
          "data": {
            "text/plain": [
              "<tf.Tensor: shape=(2, 2), dtype=int32, numpy=\n",
              "array([[121,  98],\n",
              "       [ 42,  37]], dtype=int32)>"
            ]
          },
          "metadata": {},
          "execution_count": 51
        }
      ]
    },
    {
      "cell_type": "code",
      "source": [
        "tensor * tensor"
      ],
      "metadata": {
        "colab": {
          "base_uri": "https://localhost:8080/"
        },
        "id": "12uKomQwL94L",
        "outputId": "dd305915-3019-4b75-f804-e8d0d7cd6416"
      },
      "id": "12uKomQwL94L",
      "execution_count": 52,
      "outputs": [
        {
          "output_type": "execute_result",
          "data": {
            "text/plain": [
              "<tf.Tensor: shape=(2, 2), dtype=int32, numpy=\n",
              "array([[100,  49],\n",
              "       [  9,  16]], dtype=int32)>"
            ]
          },
          "metadata": {},
          "execution_count": 52
        }
      ]
    },
    {
      "cell_type": "code",
      "source": [
        "# Matrix Multiplication with Python operator @\n",
        "tensor @ tensor"
      ],
      "metadata": {
        "id": "w2M-BlelMZ9C"
      },
      "id": "w2M-BlelMZ9C",
      "execution_count": null,
      "outputs": []
    },
    {
      "cell_type": "code",
      "source": [
        "# Create a tensor (3, 3) tensor\n",
        "_x = np.arange(1, 7, dtype=np.int32)\n",
        "X = tf.constant(_x, shape=(3, 2))\n",
        "# Create another (3, 2) tensor\n",
        "_y = np.arange(7, 13, dtype=np.int32)\n",
        "Y = tf.constant(_y, shape=(2, 3))\n",
        "X, Y"
      ],
      "metadata": {
        "colab": {
          "base_uri": "https://localhost:8080/"
        },
        "id": "Odx68nrsMwNf",
        "outputId": "05f3479a-20b1-4a77-ff3a-6d87a1681a03"
      },
      "id": "Odx68nrsMwNf",
      "execution_count": 47,
      "outputs": [
        {
          "output_type": "execute_result",
          "data": {
            "text/plain": [
              "(<tf.Tensor: shape=(3, 2), dtype=int32, numpy=\n",
              " array([[1, 2],\n",
              "        [3, 4],\n",
              "        [5, 6]], dtype=int32)>,\n",
              " <tf.Tensor: shape=(2, 3), dtype=int32, numpy=\n",
              " array([[ 7,  8,  9],\n",
              "        [10, 11, 12]], dtype=int32)>)"
            ]
          },
          "metadata": {},
          "execution_count": 47
        }
      ]
    },
    {
      "cell_type": "code",
      "source": [
        "# Try to matrix multiply tensors of same shape\n",
        "X @ Y"
      ],
      "metadata": {
        "colab": {
          "base_uri": "https://localhost:8080/"
        },
        "id": "Alg6n7YUNgz4",
        "outputId": "b026f2f2-e637-4e92-e164-7e3c2342b7d3"
      },
      "id": "Alg6n7YUNgz4",
      "execution_count": 53,
      "outputs": [
        {
          "output_type": "execute_result",
          "data": {
            "text/plain": [
              "<tf.Tensor: shape=(3, 3), dtype=int32, numpy=\n",
              "array([[ 27,  30,  33],\n",
              "       [ 61,  68,  75],\n",
              "       [ 95, 106, 117]], dtype=int32)>"
            ]
          },
          "metadata": {},
          "execution_count": 53
        }
      ]
    },
    {
      "cell_type": "code",
      "source": [
        "_x = np.arange(1, 7, dtype=np.int32)\n",
        "X = tf.constant(_x, shape=(3, 2))\n",
        "\n",
        "# Transpose\n",
        "# Reshape\n",
        "\n",
        "X, tf.transpose(X), tf.reshape(X, shape=(2, 3))"
      ],
      "metadata": {
        "colab": {
          "base_uri": "https://localhost:8080/"
        },
        "id": "g0ccTYXLQAgo",
        "outputId": "323be7cc-79a4-42dd-9c8b-a2e9e2a95c20"
      },
      "id": "g0ccTYXLQAgo",
      "execution_count": 45,
      "outputs": [
        {
          "output_type": "execute_result",
          "data": {
            "text/plain": [
              "(<tf.Tensor: shape=(3, 2), dtype=int32, numpy=\n",
              " array([[1, 2],\n",
              "        [3, 4],\n",
              "        [5, 6]], dtype=int32)>,\n",
              " <tf.Tensor: shape=(2, 3), dtype=int32, numpy=\n",
              " array([[1, 3, 5],\n",
              "        [2, 4, 6]], dtype=int32)>,\n",
              " <tf.Tensor: shape=(2, 3), dtype=int32, numpy=\n",
              " array([[1, 2, 3],\n",
              "        [4, 5, 6]], dtype=int32)>)"
            ]
          },
          "metadata": {},
          "execution_count": 45
        }
      ]
    },
    {
      "cell_type": "markdown",
      "source": [
        "**The dot product**\n",
        "\n",
        "Matrix multiplication is also referrred to as the dot product.\n",
        "\n",
        "You can perform matrix multiplication using:\n",
        "\n",
        "* `tf.matmul()`\n",
        "* `tf.tensordot()`"
      ],
      "metadata": {
        "id": "E2BB_mVjUYEW"
      },
      "id": "E2BB_mVjUYEW"
    },
    {
      "cell_type": "code",
      "source": [
        "X, Y"
      ],
      "metadata": {
        "colab": {
          "base_uri": "https://localhost:8080/"
        },
        "id": "0QyL78zTUzzD",
        "outputId": "c26f75ec-b7af-4b7e-f650-ec791afdc859"
      },
      "id": "0QyL78zTUzzD",
      "execution_count": 54,
      "outputs": [
        {
          "output_type": "execute_result",
          "data": {
            "text/plain": [
              "(<tf.Tensor: shape=(3, 2), dtype=int32, numpy=\n",
              " array([[1, 2],\n",
              "        [3, 4],\n",
              "        [5, 6]], dtype=int32)>,\n",
              " <tf.Tensor: shape=(2, 3), dtype=int32, numpy=\n",
              " array([[ 7,  8,  9],\n",
              "        [10, 11, 12]], dtype=int32)>)"
            ]
          },
          "metadata": {},
          "execution_count": 54
        }
      ]
    },
    {
      "cell_type": "code",
      "source": [
        "# Perform the dot product on X and Y (requres X or Y to be transposed)\n",
        "tf.tensordot(X, Y, axes=1)"
      ],
      "metadata": {
        "colab": {
          "base_uri": "https://localhost:8080/"
        },
        "id": "pPDajzsUU9dN",
        "outputId": "a2eb273b-9f4e-4615-e34a-43fc4b563eaf"
      },
      "id": "pPDajzsUU9dN",
      "execution_count": 55,
      "outputs": [
        {
          "output_type": "execute_result",
          "data": {
            "text/plain": [
              "<tf.Tensor: shape=(3, 3), dtype=int32, numpy=\n",
              "array([[ 27,  30,  33],\n",
              "       [ 61,  68,  75],\n",
              "       [ 95, 106, 117]], dtype=int32)>"
            ]
          },
          "metadata": {},
          "execution_count": 55
        }
      ]
    },
    {
      "cell_type": "markdown",
      "source": [
        "## Changing the datatype of tensor"
      ],
      "metadata": {
        "id": "3SuDnfTAWLgP"
      },
      "id": "3SuDnfTAWLgP"
    },
    {
      "cell_type": "code",
      "source": [
        "# Create a new tensor with default datatype (float32)\n",
        "\n",
        "B = tf.constant([1.7, 7.4])\n",
        "B, B.dtype"
      ],
      "metadata": {
        "colab": {
          "base_uri": "https://localhost:8080/"
        },
        "id": "bij0NXyLXbzO",
        "outputId": "74be2cd1-b490-4386-d6aa-a7ed75ba8fd1"
      },
      "id": "bij0NXyLXbzO",
      "execution_count": 42,
      "outputs": [
        {
          "output_type": "execute_result",
          "data": {
            "text/plain": [
              "(<tf.Tensor: shape=(2,), dtype=float32, numpy=array([1.7, 7.4], dtype=float32)>,\n",
              " tf.float32)"
            ]
          },
          "metadata": {},
          "execution_count": 42
        }
      ]
    },
    {
      "cell_type": "code",
      "source": [
        "C = tf.constant([7, 10])\n",
        "C, C.dtype"
      ],
      "metadata": {
        "colab": {
          "base_uri": "https://localhost:8080/"
        },
        "id": "DTG4_VuAX1ou",
        "outputId": "e28f1001-bc6b-4fe3-968d-21d0de8b9d6f"
      },
      "id": "DTG4_VuAX1ou",
      "execution_count": 41,
      "outputs": [
        {
          "output_type": "execute_result",
          "data": {
            "text/plain": [
              "(<tf.Tensor: shape=(2,), dtype=int32, numpy=array([ 7, 10], dtype=int32)>,\n",
              " tf.int32)"
            ]
          },
          "metadata": {},
          "execution_count": 41
        }
      ]
    },
    {
      "cell_type": "code",
      "source": [
        "# Change from float32 to float16 (reduced precision)\n",
        "D = tf.cast(B, dtype=tf.float16)\n",
        "D, D.dtype"
      ],
      "metadata": {
        "colab": {
          "base_uri": "https://localhost:8080/"
        },
        "id": "mJjWXK0sX5Dt",
        "outputId": "04075faf-72d4-486a-e7ee-c95ed658145f"
      },
      "id": "mJjWXK0sX5Dt",
      "execution_count": 39,
      "outputs": [
        {
          "output_type": "execute_result",
          "data": {
            "text/plain": [
              "(<tf.Tensor: shape=(2, 3, 4), dtype=float16, numpy=\n",
              " array([[[ 1.,  2.,  3.,  4.],\n",
              "         [ 5.,  6.,  7.,  8.],\n",
              "         [ 9., 10., 11., 12.]],\n",
              " \n",
              "        [[13., 14., 15., 16.],\n",
              "         [17., 18., 19., 20.],\n",
              "         [21., 22., 23., 24.]]], dtype=float16)>,\n",
              " tf.float16)"
            ]
          },
          "metadata": {},
          "execution_count": 39
        }
      ]
    },
    {
      "cell_type": "code",
      "source": [
        "# Change from int32 to float32\n",
        "E = tf.cast(C, dtype=tf.float32)\n",
        "E, E.dtype"
      ],
      "metadata": {
        "colab": {
          "base_uri": "https://localhost:8080/"
        },
        "id": "QyApMw5RYiGt",
        "outputId": "ea38494b-e152-4bdf-b033-fbdd46c67b95"
      },
      "id": "QyApMw5RYiGt",
      "execution_count": 56,
      "outputs": [
        {
          "output_type": "execute_result",
          "data": {
            "text/plain": [
              "(<tf.Tensor: shape=(2,), dtype=float32, numpy=array([ 7., 10.], dtype=float32)>,\n",
              " tf.float32)"
            ]
          },
          "metadata": {},
          "execution_count": 56
        }
      ]
    },
    {
      "cell_type": "code",
      "source": [
        "# Change from float16 to int16\n",
        "F = tf.cast(D, dtype=tf.int16)\n",
        "F, F.dtype"
      ],
      "metadata": {
        "colab": {
          "base_uri": "https://localhost:8080/"
        },
        "id": "DPv2YNiFYv_6",
        "outputId": "8e2890f2-f6b6-421e-faeb-5dd6e354e203"
      },
      "id": "DPv2YNiFYv_6",
      "execution_count": 57,
      "outputs": [
        {
          "output_type": "execute_result",
          "data": {
            "text/plain": [
              "(<tf.Tensor: shape=(2, 3, 4), dtype=int16, numpy=\n",
              " array([[[ 1,  2,  3,  4],\n",
              "         [ 5,  6,  7,  8],\n",
              "         [ 9, 10, 11, 12]],\n",
              " \n",
              "        [[13, 14, 15, 16],\n",
              "         [17, 18, 19, 20],\n",
              "         [21, 22, 23, 24]]], dtype=int16)>,\n",
              " tf.int16)"
            ]
          },
          "metadata": {},
          "execution_count": 57
        }
      ]
    },
    {
      "cell_type": "markdown",
      "source": [
        "## Aggregating tensors"
      ],
      "metadata": {
        "id": "-U0hc31oaKXd"
      },
      "id": "-U0hc31oaKXd"
    },
    {
      "cell_type": "markdown",
      "source": [
        "Aggregation tensors = condensing them from multiple values down to a smaller amount of values."
      ],
      "metadata": {
        "id": "FatdfPD4bCWT"
      },
      "id": "FatdfPD4bCWT"
    },
    {
      "cell_type": "code",
      "source": [
        "# Get the absolate values\n",
        "D = tf.constant([-7, -10])\n",
        "\n",
        "tf.abs(D)"
      ],
      "metadata": {
        "id": "sgTQ6je6bCCd"
      },
      "id": "sgTQ6je6bCCd",
      "execution_count": null,
      "outputs": []
    },
    {
      "cell_type": "markdown",
      "source": [
        "Let's go through the following forms of aggregation:\n",
        "* Get the minimum\n",
        "* Get the maximum\n",
        "* Get the main of a tensor\n",
        "* Get the sum of a tensor"
      ],
      "metadata": {
        "id": "iUWJ1Vilbvfp"
      },
      "id": "iUWJ1Vilbvfp"
    },
    {
      "cell_type": "code",
      "source": [
        "# Create a random tensor with values between0 and 100 of size 50\n",
        "E = tf.constant(np.random.randint(0, 100, size=50))\n",
        "\n",
        "E"
      ],
      "metadata": {
        "id": "WSX1xNwOb8eB",
        "outputId": "3e9abae1-574f-40cd-c46d-b06344ac541b",
        "colab": {
          "base_uri": "https://localhost:8080/"
        }
      },
      "id": "WSX1xNwOb8eB",
      "execution_count": 37,
      "outputs": [
        {
          "output_type": "execute_result",
          "data": {
            "text/plain": [
              "<tf.Tensor: shape=(50,), dtype=int64, numpy=\n",
              "array([39, 86, 50, 21, 22, 43, 92, 99, 84, 28, 88, 95, 38, 25, 84, 43, 80,\n",
              "       61, 39, 61, 90, 64, 56,  2,  8,  9, 97, 45,  7, 34, 40, 96, 59, 40,\n",
              "       11, 38, 39, 61, 77, 65, 10, 39, 40, 55, 28, 95, 87, 59, 15, 57])>"
            ]
          },
          "metadata": {},
          "execution_count": 37
        }
      ]
    },
    {
      "cell_type": "code",
      "source": [
        "# Find the minimum\n",
        "tf.reduce_min(E)"
      ],
      "metadata": {
        "id": "sVt05CKnc2Uf",
        "outputId": "08fb1b3f-a7e5-459f-f69a-ec5abb07e1b6",
        "colab": {
          "base_uri": "https://localhost:8080/"
        }
      },
      "id": "sVt05CKnc2Uf",
      "execution_count": 58,
      "outputs": [
        {
          "output_type": "execute_result",
          "data": {
            "text/plain": [
              "<tf.Tensor: shape=(), dtype=float32, numpy=7.0>"
            ]
          },
          "metadata": {},
          "execution_count": 58
        }
      ]
    },
    {
      "cell_type": "code",
      "source": [
        "# Find the maximum\n",
        "tf.reduce_max(E)"
      ],
      "metadata": {
        "id": "vmVJIEV7dJlR",
        "outputId": "f25e8f8f-c57e-4615-b08b-b84b0dc37b0e",
        "colab": {
          "base_uri": "https://localhost:8080/"
        }
      },
      "id": "vmVJIEV7dJlR",
      "execution_count": 59,
      "outputs": [
        {
          "output_type": "execute_result",
          "data": {
            "text/plain": [
              "<tf.Tensor: shape=(), dtype=float32, numpy=10.0>"
            ]
          },
          "metadata": {},
          "execution_count": 59
        }
      ]
    },
    {
      "cell_type": "code",
      "source": [
        "# Find the mean\n",
        "tf.reduce_mean(E)"
      ],
      "metadata": {
        "id": "b7whxe2ZdPPo",
        "outputId": "2acf128b-8f90-4aaf-ab0b-1a8e49338981",
        "colab": {
          "base_uri": "https://localhost:8080/"
        }
      },
      "id": "b7whxe2ZdPPo",
      "execution_count": 60,
      "outputs": [
        {
          "output_type": "execute_result",
          "data": {
            "text/plain": [
              "<tf.Tensor: shape=(), dtype=float32, numpy=8.5>"
            ]
          },
          "metadata": {},
          "execution_count": 60
        }
      ]
    },
    {
      "cell_type": "code",
      "source": [
        "# Find the sum\n",
        "tf.reduce_sum(E)"
      ],
      "metadata": {
        "id": "Lu1iLPoEdYuO",
        "outputId": "e9d79a9b-7a94-4c35-acbc-1986e3221ed7",
        "colab": {
          "base_uri": "https://localhost:8080/"
        }
      },
      "id": "Lu1iLPoEdYuO",
      "execution_count": 61,
      "outputs": [
        {
          "output_type": "execute_result",
          "data": {
            "text/plain": [
              "<tf.Tensor: shape=(), dtype=float32, numpy=17.0>"
            ]
          },
          "metadata": {},
          "execution_count": 61
        }
      ]
    },
    {
      "cell_type": "code",
      "source": [
        "# To find the variance of our tensor, we need access to tensorflow_probability\n",
        "import tensorflow_probability as tfp\n",
        "tfp.stats.variance(E)"
      ],
      "metadata": {
        "id": "Od9JBkn_eQUM",
        "outputId": "28af1cc8-7422-409c-8bc4-6af79a286cc4",
        "colab": {
          "base_uri": "https://localhost:8080/"
        }
      },
      "id": "Od9JBkn_eQUM",
      "execution_count": 62,
      "outputs": [
        {
          "output_type": "execute_result",
          "data": {
            "text/plain": [
              "<tf.Tensor: shape=(), dtype=float32, numpy=2.25>"
            ]
          },
          "metadata": {},
          "execution_count": 62
        }
      ]
    },
    {
      "cell_type": "code",
      "source": [
        "# Find the variance of our tensor\n",
        "tf.math.reduce_variance(tf.cast(E, dtype=tf.float32))"
      ],
      "metadata": {
        "id": "gLjTpB8FgkFd",
        "outputId": "00a1fc28-a3c5-4e7e-87b9-65cb2f9a54ae",
        "colab": {
          "base_uri": "https://localhost:8080/"
        }
      },
      "id": "gLjTpB8FgkFd",
      "execution_count": 63,
      "outputs": [
        {
          "output_type": "execute_result",
          "data": {
            "text/plain": [
              "<tf.Tensor: shape=(), dtype=float32, numpy=2.25>"
            ]
          },
          "metadata": {},
          "execution_count": 63
        }
      ]
    },
    {
      "cell_type": "code",
      "source": [
        "# Find std deviation\n",
        "tf.math.reduce_std(tf.cast(E, dtype=tf.float32))"
      ],
      "metadata": {
        "id": "xfuKza24fXcM",
        "outputId": "708be33a-2ac1-4973-f78d-a867e25157f7",
        "colab": {
          "base_uri": "https://localhost:8080/"
        }
      },
      "id": "xfuKza24fXcM",
      "execution_count": 64,
      "outputs": [
        {
          "output_type": "execute_result",
          "data": {
            "text/plain": [
              "<tf.Tensor: shape=(), dtype=float32, numpy=1.5>"
            ]
          },
          "metadata": {},
          "execution_count": 64
        }
      ]
    },
    {
      "cell_type": "markdown",
      "source": [
        "## Find the positional maximum and minimum\n",
        "\n"
      ],
      "metadata": {
        "id": "ByRTEvrxgOmC"
      },
      "id": "ByRTEvrxgOmC"
    },
    {
      "cell_type": "code",
      "source": [
        "# Create a new tensor for finding positional minimum and maximum\n",
        "tf.random.set_seed(42)\n",
        "F = tf.random.uniform(shape=[50])\n",
        "F"
      ],
      "metadata": {
        "id": "HTVs3qM1hpn2",
        "outputId": "cb7e4a14-b38d-4a01-97f5-cb5052bbd879",
        "colab": {
          "base_uri": "https://localhost:8080/"
        }
      },
      "id": "HTVs3qM1hpn2",
      "execution_count": 65,
      "outputs": [
        {
          "output_type": "execute_result",
          "data": {
            "text/plain": [
              "<tf.Tensor: shape=(50,), dtype=float32, numpy=\n",
              "array([0.6645621 , 0.44100678, 0.3528825 , 0.46448255, 0.03366041,\n",
              "       0.68467236, 0.74011743, 0.8724445 , 0.22632635, 0.22319686,\n",
              "       0.3103881 , 0.7223358 , 0.13318717, 0.5480639 , 0.5746088 ,\n",
              "       0.8996835 , 0.00946367, 0.5212307 , 0.6345445 , 0.1993283 ,\n",
              "       0.72942245, 0.54583454, 0.10756552, 0.6767061 , 0.6602763 ,\n",
              "       0.33695042, 0.60141766, 0.21062577, 0.8527372 , 0.44062173,\n",
              "       0.9485276 , 0.23752594, 0.81179297, 0.5263394 , 0.494308  ,\n",
              "       0.21612847, 0.8457197 , 0.8718841 , 0.3083862 , 0.6868038 ,\n",
              "       0.23764038, 0.7817228 , 0.9671384 , 0.06870162, 0.79873943,\n",
              "       0.66028714, 0.5871513 , 0.16461694, 0.7381023 , 0.32054043],\n",
              "      dtype=float32)>"
            ]
          },
          "metadata": {},
          "execution_count": 65
        }
      ]
    },
    {
      "cell_type": "code",
      "source": [
        "# Find the positional maximum\n",
        "tf.argmax(F)"
      ],
      "metadata": {
        "id": "jGxd5lBBh4Pk",
        "outputId": "efb4c088-4c98-4f57-bacd-23fd3510637e",
        "colab": {
          "base_uri": "https://localhost:8080/"
        }
      },
      "id": "jGxd5lBBh4Pk",
      "execution_count": 66,
      "outputs": [
        {
          "output_type": "execute_result",
          "data": {
            "text/plain": [
              "<tf.Tensor: shape=(), dtype=int64, numpy=42>"
            ]
          },
          "metadata": {},
          "execution_count": 66
        }
      ]
    },
    {
      "cell_type": "code",
      "source": [
        "# Index on our largest value position\n",
        "F[tf.argmax(F)]"
      ],
      "metadata": {
        "id": "cCesTVdth9Ih",
        "outputId": "de2eef51-bb78-4c1f-a6ef-9ac510127b45",
        "colab": {
          "base_uri": "https://localhost:8080/"
        }
      },
      "id": "cCesTVdth9Ih",
      "execution_count": 67,
      "outputs": [
        {
          "output_type": "execute_result",
          "data": {
            "text/plain": [
              "<tf.Tensor: shape=(), dtype=float32, numpy=0.967138409614563>"
            ]
          },
          "metadata": {},
          "execution_count": 67
        }
      ]
    },
    {
      "cell_type": "code",
      "source": [
        "# Find the max value of F\n",
        "tf.reduce_max(F)"
      ],
      "metadata": {
        "id": "-_mJ3NWviMi-",
        "outputId": "c144043f-89e0-49a0-f0d2-16c59220adc4",
        "colab": {
          "base_uri": "https://localhost:8080/"
        }
      },
      "id": "-_mJ3NWviMi-",
      "execution_count": 68,
      "outputs": [
        {
          "output_type": "execute_result",
          "data": {
            "text/plain": [
              "<tf.Tensor: shape=(), dtype=float32, numpy=0.967138409614563>"
            ]
          },
          "metadata": {},
          "execution_count": 68
        }
      ]
    },
    {
      "cell_type": "code",
      "source": [
        "# Check for equality\n",
        "assert F[tf.argmax(F)] == tf.reduce_max(F)"
      ],
      "metadata": {
        "id": "qIHkSGZYiURh"
      },
      "id": "qIHkSGZYiURh",
      "execution_count": 69,
      "outputs": []
    },
    {
      "cell_type": "code",
      "source": [
        "# Find the positional minimum\n",
        "tf.argmin(F)"
      ],
      "metadata": {
        "id": "_UI0LUfIi0jm",
        "outputId": "50fbeca7-613c-43ce-b97c-63a33dafbd8c",
        "colab": {
          "base_uri": "https://localhost:8080/"
        }
      },
      "id": "_UI0LUfIi0jm",
      "execution_count": 70,
      "outputs": [
        {
          "output_type": "execute_result",
          "data": {
            "text/plain": [
              "<tf.Tensor: shape=(), dtype=int64, numpy=16>"
            ]
          },
          "metadata": {},
          "execution_count": 70
        }
      ]
    },
    {
      "cell_type": "code",
      "source": [
        "# Find the minimum using the positional minimum\n",
        "F[tf.argmin(F)]"
      ],
      "metadata": {
        "id": "lKlcAQC7i9Ln",
        "outputId": "d7337e98-52f1-4b89-f806-83ad2ac04683",
        "colab": {
          "base_uri": "https://localhost:8080/"
        }
      },
      "id": "lKlcAQC7i9Ln",
      "execution_count": 71,
      "outputs": [
        {
          "output_type": "execute_result",
          "data": {
            "text/plain": [
              "<tf.Tensor: shape=(), dtype=float32, numpy=0.009463667869567871>"
            ]
          },
          "metadata": {},
          "execution_count": 71
        }
      ]
    },
    {
      "cell_type": "markdown",
      "source": [
        "## One-hot encoding tensors"
      ],
      "metadata": {
        "id": "1aENAwQ3WJ7E"
      },
      "id": "1aENAwQ3WJ7E"
    },
    {
      "cell_type": "code",
      "source": [
        "# Create a list of indices\n",
        "some_list = [0, 1, 2, 3] # could be red, green, blue, purple\n",
        "\n",
        "# One hot encode our list of indices\n",
        "tf.one_hot(some_list, depth=4)"
      ],
      "metadata": {
        "id": "MYX0A4D3WcqF",
        "outputId": "e1a563cb-f550-492a-edbf-296b5b6aa1ed",
        "colab": {
          "base_uri": "https://localhost:8080/"
        }
      },
      "id": "MYX0A4D3WcqF",
      "execution_count": 73,
      "outputs": [
        {
          "output_type": "execute_result",
          "data": {
            "text/plain": [
              "<tf.Tensor: shape=(4, 4), dtype=float32, numpy=\n",
              "array([[1., 0., 0., 0.],\n",
              "       [0., 1., 0., 0.],\n",
              "       [0., 0., 1., 0.],\n",
              "       [0., 0., 0., 1.]], dtype=float32)>"
            ]
          },
          "metadata": {},
          "execution_count": 73
        }
      ]
    },
    {
      "cell_type": "code",
      "source": [
        "# Specify custom values for one hot encoding\n",
        "tf.one_hot(some_list, depth=4, on_value=\"Yo I love deep learning\", off_value=\"I also like to dance\")"
      ],
      "metadata": {
        "id": "ZIuXGwkTW-GE",
        "outputId": "f155d3f9-22c2-4661-8769-2105e91acbf6",
        "colab": {
          "base_uri": "https://localhost:8080/"
        }
      },
      "id": "ZIuXGwkTW-GE",
      "execution_count": 74,
      "outputs": [
        {
          "output_type": "execute_result",
          "data": {
            "text/plain": [
              "<tf.Tensor: shape=(4, 4), dtype=string, numpy=\n",
              "array([[b'Yo I love deep learning', b'I also like to dance',\n",
              "        b'I also like to dance', b'I also like to dance'],\n",
              "       [b'I also like to dance', b'Yo I love deep learning',\n",
              "        b'I also like to dance', b'I also like to dance'],\n",
              "       [b'I also like to dance', b'I also like to dance',\n",
              "        b'Yo I love deep learning', b'I also like to dance'],\n",
              "       [b'I also like to dance', b'I also like to dance',\n",
              "        b'I also like to dance', b'Yo I love deep learning']],\n",
              "      dtype=object)>"
            ]
          },
          "metadata": {},
          "execution_count": 74
        }
      ]
    },
    {
      "cell_type": "markdown",
      "source": [
        "## Squaring, log, square root"
      ],
      "metadata": {
        "id": "PXaKDtL9Xm4Y"
      },
      "id": "PXaKDtL9Xm4Y"
    },
    {
      "cell_type": "code",
      "source": [
        "# Create a new tensor\n",
        "H = tf.range(1, 10)\n",
        "H"
      ],
      "metadata": {
        "id": "5dpB0HsgXsVC",
        "outputId": "8a68e5d5-c5fb-4e4e-eb7d-be7bd8dbb463",
        "colab": {
          "base_uri": "https://localhost:8080/"
        }
      },
      "id": "5dpB0HsgXsVC",
      "execution_count": 75,
      "outputs": [
        {
          "output_type": "execute_result",
          "data": {
            "text/plain": [
              "<tf.Tensor: shape=(9,), dtype=int32, numpy=array([1, 2, 3, 4, 5, 6, 7, 8, 9], dtype=int32)>"
            ]
          },
          "metadata": {},
          "execution_count": 75
        }
      ]
    },
    {
      "cell_type": "code",
      "source": [
        "# Square it\n",
        "tf.square(H)"
      ],
      "metadata": {
        "id": "SKYANEsOXwtz",
        "outputId": "56645a34-c8c0-4875-d4f4-b9ee8de68361",
        "colab": {
          "base_uri": "https://localhost:8080/"
        }
      },
      "id": "SKYANEsOXwtz",
      "execution_count": 76,
      "outputs": [
        {
          "output_type": "execute_result",
          "data": {
            "text/plain": [
              "<tf.Tensor: shape=(9,), dtype=int32, numpy=array([ 1,  4,  9, 16, 25, 36, 49, 64, 81], dtype=int32)>"
            ]
          },
          "metadata": {},
          "execution_count": 76
        }
      ]
    },
    {
      "cell_type": "code",
      "source": [
        "# Fine the squareroot\n",
        "tf.sqrt(tf.cast(H, dtype=tf.float32))"
      ],
      "metadata": {
        "id": "XgZoAx7WX3XS",
        "outputId": "691c7396-08a3-49a1-d41b-8ba252ede114",
        "colab": {
          "base_uri": "https://localhost:8080/"
        }
      },
      "id": "XgZoAx7WX3XS",
      "execution_count": 77,
      "outputs": [
        {
          "output_type": "execute_result",
          "data": {
            "text/plain": [
              "<tf.Tensor: shape=(9,), dtype=float32, numpy=\n",
              "array([1.       , 1.4142135, 1.7320508, 2.       , 2.236068 , 2.4494898,\n",
              "       2.6457512, 2.828427 , 3.       ], dtype=float32)>"
            ]
          },
          "metadata": {},
          "execution_count": 77
        }
      ]
    },
    {
      "cell_type": "code",
      "source": [
        "# Find the log\n",
        "tf.math.log(tf.cast(H, dtype=tf.float32))"
      ],
      "metadata": {
        "id": "_GIM8boPZAOu",
        "outputId": "31bd4a08-3090-4eea-fc37-073abe450634",
        "colab": {
          "base_uri": "https://localhost:8080/"
        }
      },
      "id": "_GIM8boPZAOu",
      "execution_count": 80,
      "outputs": [
        {
          "output_type": "execute_result",
          "data": {
            "text/plain": [
              "<tf.Tensor: shape=(9,), dtype=float32, numpy=\n",
              "array([0.       , 0.6931472, 1.0986123, 1.3862944, 1.609438 , 1.7917595,\n",
              "       1.9459102, 2.0794415, 2.1972246], dtype=float32)>"
            ]
          },
          "metadata": {},
          "execution_count": 80
        }
      ]
    }
  ],
  "metadata": {
    "language_info": {
      "name": "python"
    },
    "colab": {
      "provenance": []
    },
    "kernelspec": {
      "name": "python3",
      "display_name": "Python 3"
    }
  },
  "nbformat": 4,
  "nbformat_minor": 5
}