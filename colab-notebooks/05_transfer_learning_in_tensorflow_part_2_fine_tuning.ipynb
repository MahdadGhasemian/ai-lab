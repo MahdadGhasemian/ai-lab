{
 "cells": [
  {
   "cell_type": "markdown",
   "id": "ed94a3f2",
   "metadata": {},
   "source": [
    "# 05. Transfer Learning with TensorFlow Part 2: Fine-tuning\n"
   ]
  }
 ],
 "metadata": {
  "language_info": {
   "name": "python"
  }
 },
 "nbformat": 4,
 "nbformat_minor": 5
}
