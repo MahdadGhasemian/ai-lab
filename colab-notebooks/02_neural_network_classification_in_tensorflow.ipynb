{
 "cells": [
  {
   "cell_type": "markdown",
   "id": "cdd8b916",
   "metadata": {},
   "source": [
    "# Introduction to neural network classification with TensorFlow\n",
    "\n",
    "A classification is where you try to classify something as one thing or another.\n",
    "\n",
    "A few types of classification problems:\n",
    "* Binary classification\n",
    "* Multiclass classification\n",
    "* Multilabel \n",
    "\n",
    "\n",
    "<img src=\"https://raw.githubusercontent.com/MahdadGhasemian/ai-lab/main/colab-notebooks/images/architecture-of-classification.png\" />\n",
    "<img src=\"https://raw.githubusercontent.com/MahdadGhasemian/ai-lab/main/colab-notebooks/images/classification-problems.png\" />\n"
   ]
  }
 ],
 "metadata": {
  "language_info": {
   "name": "python"
  }
 },
 "nbformat": 4,
 "nbformat_minor": 5
}
