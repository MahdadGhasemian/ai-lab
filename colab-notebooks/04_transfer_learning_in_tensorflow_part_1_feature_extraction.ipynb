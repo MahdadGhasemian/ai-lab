{
 "cells": [
  {
   "cell_type": "markdown",
   "id": "d28fb5cd",
   "metadata": {},
   "source": [
    "<img src=\"https://raw.githubusercontent.com/MahdadGhasemian/ai-lab/main/colab-notebooks/images/why-use-transfer-learning.png\" />"
   ]
  }
 ],
 "metadata": {
  "language_info": {
   "name": "python"
  }
 },
 "nbformat": 4,
 "nbformat_minor": 5
}
