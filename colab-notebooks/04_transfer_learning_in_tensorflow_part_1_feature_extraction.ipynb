{
 "cells": [
  {
   "cell_type": "markdown",
   "id": "ecf566a5-81fc-46c0-b962-e900bb0292a1",
   "metadata": {},
   "source": [
    "# Transfer learning with TensorFlow Part 1: Feature Extraction\n",
    "\n",
    "Transfer learning is leveraging a working model's existing architecture and learned patterns for our own problem.\n",
    "\n",
    "There are two main benefits:\n",
    "1. Can leverage a working neural network architecture proven to work on problems similar to our own.\n",
    "2. Can leverage a working neural network architecture which has already learned patterns on similar data to our own, then we can adapt those patterns to our own data"
   ]
  },
  {
   "cell_type": "markdown",
   "id": "794a9a63-e1fd-4198-aac7-cc13a014318d",
   "metadata": {},
   "source": [
    "<img src=\"https://raw.githubusercontent.com/MahdadGhasemian/ai-lab/main/colab-notebooks/images/why-use-transfer-learning.png\" />"
   ]
  },
  {
   "cell_type": "code",
   "execution_count": 1,
   "id": "8b742cc0-572f-4eb5-ae11-0957cd9ab9d9",
   "metadata": {},
   "outputs": [
    {
     "name": "stdout",
     "output_type": "stream",
     "text": [
      "Sat Sep 13 12:20:42 2025       \n",
      "+-----------------------------------------------------------------------------------------+\n",
      "| NVIDIA-SMI 570.86.15              Driver Version: 570.86.15      CUDA Version: 12.8     |\n",
      "|-----------------------------------------+------------------------+----------------------+\n",
      "| GPU  Name                 Persistence-M | Bus-Id          Disp.A | Volatile Uncorr. ECC |\n",
      "| Fan  Temp   Perf          Pwr:Usage/Cap |           Memory-Usage | GPU-Util  Compute M. |\n",
      "|                                         |                        |               MIG M. |\n",
      "|=========================================+========================+======================|\n",
      "|   0  NVIDIA GeForce RTX 3080 Ti     Off |   00000000:00:06.0 Off |                  N/A |\n",
      "|  0%   35C    P8             17W /  350W |   10406MiB /  12288MiB |      0%      Default |\n",
      "|                                         |                        |                  N/A |\n",
      "+-----------------------------------------+------------------------+----------------------+\n",
      "                                                                                         \n",
      "+-----------------------------------------------------------------------------------------+\n",
      "| Processes:                                                                              |\n",
      "|  GPU   GI   CI              PID   Type   Process name                        GPU Memory |\n",
      "|        ID   ID                                                               Usage      |\n",
      "|=========================================================================================|\n",
      "+-----------------------------------------------------------------------------------------+\n"
     ]
    }
   ],
   "source": [
    "# Are we using a GPU?\n",
    "!nvidia-smi"
   ]
  },
  {
   "cell_type": "markdown",
   "id": "e78f578b-7812-4bc2-aa63-ca4108d81898",
   "metadata": {},
   "source": [
    "## Downloading and becoming one with data"
   ]
  },
  {
   "cell_type": "code",
   "execution_count": null,
   "id": "5f0aaa7c-6f25-41c5-92f3-2eac8e50b32f",
   "metadata": {},
   "outputs": [],
   "source": [
    "# Get data (10% of 10 food classes from Food101)"
   ]
  },
  {
   "cell_type": "code",
   "execution_count": null,
   "id": "d1276fc9-095f-4fca-9700-a85e52ec5cd3",
   "metadata": {},
   "outputs": [],
   "source": [
    "# Downlaod via original link:\n",
    "https://storage.googleapis.com/ztm_tf_course/food_vision/10_food_classes_10_percent.zip"
   ]
  },
  {
   "cell_type": "code",
   "execution_count": 3,
   "id": "0102964c-b35a-4c7a-b2e9-75c5fa5c07d9",
   "metadata": {},
   "outputs": [
    {
     "name": "stdout",
     "output_type": "stream",
     "text": [
      "Looking in indexes: https://pypi.org/simple, https://pypi.ngc.nvidia.com\n",
      "Requirement already satisfied: gdown in /opt/conda/lib/python3.12/site-packages (5.2.0)\n",
      "Requirement already satisfied: beautifulsoup4 in /opt/conda/lib/python3.12/site-packages (from gdown) (4.13.3)\n",
      "Requirement already satisfied: filelock in /opt/conda/lib/python3.12/site-packages (from gdown) (3.13.1)\n",
      "Requirement already satisfied: requests[socks] in /opt/conda/lib/python3.12/site-packages (from gdown) (2.32.3)\n",
      "Requirement already satisfied: tqdm in /opt/conda/lib/python3.12/site-packages (from gdown) (4.67.1)\n",
      "Requirement already satisfied: soupsieve>1.2 in /opt/conda/lib/python3.12/site-packages (from beautifulsoup4->gdown) (2.5)\n",
      "Requirement already satisfied: typing-extensions>=4.0.0 in /opt/conda/lib/python3.12/site-packages (from beautifulsoup4->gdown) (4.12.2)\n",
      "Requirement already satisfied: charset_normalizer<4,>=2 in /opt/conda/lib/python3.12/site-packages (from requests[socks]->gdown) (3.4.1)\n",
      "Requirement already satisfied: idna<4,>=2.5 in /opt/conda/lib/python3.12/site-packages (from requests[socks]->gdown) (3.10)\n",
      "Requirement already satisfied: urllib3<3,>=1.21.1 in /opt/conda/lib/python3.12/site-packages (from requests[socks]->gdown) (2.3.0)\n",
      "Requirement already satisfied: certifi>=2017.4.17 in /opt/conda/lib/python3.12/site-packages (from requests[socks]->gdown) (2025.1.31)\n",
      "Requirement already satisfied: PySocks!=1.5.7,>=1.5.6 in /opt/conda/lib/python3.12/site-packages (from requests[socks]->gdown) (1.7.1)\n"
     ]
    },
    {
     "name": "stderr",
     "output_type": "stream",
     "text": [
      "Downloading...\n",
      "From (original): https://drive.google.com/uc?id=1kSdKFxen5jURm0I6v9WBXciXr2uq9KDV\n",
      "From (redirected): https://drive.google.com/uc?id=1kSdKFxen5jURm0I6v9WBXciXr2uq9KDV&confirm=t&uuid=1356d029-b4a4-40ad-9f63-bbd5ca7568ae\n",
      "To: /home/jovyan/10_food_classes_10_percent.zip\n",
      "100% 169M/169M [00:25<00:00, 6.65MB/s] "
     ]
    },
    {
     "name": "stdout",
     "output_type": "stream",
     "text": [
      "Download completed!\n"
     ]
    },
    {
     "name": "stderr",
     "output_type": "stream",
     "text": [
      "\n"
     ]
    }
   ],
   "source": [
    "# Donwload via mirorred link\n",
    "!pip install gdown\n",
    "\n",
    "import gdown\n",
    "\n",
    "# Google Drive file ID\n",
    "file_id = \"1kSdKFxen5jURm0I6v9WBXciXr2uq9KDV\"\n",
    "url = f\"https://drive.google.com/uc?id={file_id}\"\n",
    "\n",
    "# Download and save as zip\n",
    "output = \"10_food_classes_10_percent.zip\"\n",
    "gdown.download(url, output, quiet=False)\n",
    "\n",
    "print(\"Download completed!\")"
   ]
  },
  {
   "cell_type": "code",
   "execution_count": 4,
   "id": "24006853-56d9-4eca-8e1b-5d3a5403e522",
   "metadata": {},
   "outputs": [],
   "source": [
    "# Extract the data\n",
    "import zipfile\n",
    "\n",
    "zip_ref = zipfile.ZipFile(\"10_food_classes_10_percent.zip\")\n",
    "zip_ref.extractall()\n",
    "zip_ref.close()"
   ]
  },
  {
   "cell_type": "code",
   "execution_count": 6,
   "id": "914d7788-f5ae-4a16-9777-d79c29c86c13",
   "metadata": {},
   "outputs": [
    {
     "name": "stdout",
     "output_type": "stream",
     "text": [
      "There are 2 directories and 0 images in '10_food_classes_10_percent'\n",
      "There are 10 directories and 0 images in '10_food_classes_10_percent/test'\n",
      "There are 0 directories and 250 images in '10_food_classes_10_percent/test/fried_rice'\n",
      "There are 0 directories and 250 images in '10_food_classes_10_percent/test/grilled_salmon'\n",
      "There are 0 directories and 250 images in '10_food_classes_10_percent/test/ramen'\n",
      "There are 0 directories and 250 images in '10_food_classes_10_percent/test/pizza'\n",
      "There are 0 directories and 250 images in '10_food_classes_10_percent/test/hamburger'\n",
      "There are 0 directories and 250 images in '10_food_classes_10_percent/test/steak'\n",
      "There are 0 directories and 250 images in '10_food_classes_10_percent/test/chicken_wings'\n",
      "There are 0 directories and 250 images in '10_food_classes_10_percent/test/ice_cream'\n",
      "There are 0 directories and 250 images in '10_food_classes_10_percent/test/sushi'\n",
      "There are 0 directories and 250 images in '10_food_classes_10_percent/test/chicken_curry'\n",
      "There are 10 directories and 0 images in '10_food_classes_10_percent/train'\n",
      "There are 0 directories and 75 images in '10_food_classes_10_percent/train/fried_rice'\n",
      "There are 0 directories and 75 images in '10_food_classes_10_percent/train/grilled_salmon'\n",
      "There are 0 directories and 75 images in '10_food_classes_10_percent/train/ramen'\n",
      "There are 0 directories and 75 images in '10_food_classes_10_percent/train/pizza'\n",
      "There are 0 directories and 75 images in '10_food_classes_10_percent/train/hamburger'\n",
      "There are 0 directories and 75 images in '10_food_classes_10_percent/train/steak'\n",
      "There are 0 directories and 75 images in '10_food_classes_10_percent/train/chicken_wings'\n",
      "There are 0 directories and 75 images in '10_food_classes_10_percent/train/ice_cream'\n",
      "There are 0 directories and 75 images in '10_food_classes_10_percent/train/sushi'\n",
      "There are 0 directories and 75 images in '10_food_classes_10_percent/train/chicken_curry'\n"
     ]
    }
   ],
   "source": [
    "# How many images in each folder?\n",
    "import os\n",
    "\n",
    "# Walk through 10 percent data directory and list number of files\n",
    "for dirpath, dirnames, filenames in os.walk(\"10_food_classes_10_percent\"):\n",
    "    print(f\"There are {len(dirnames)} directories and {len(filenames)} images in '{dirpath}'\")"
   ]
  },
  {
   "cell_type": "markdown",
   "id": "fbe2d392-5d57-4cb2-bbb3-ddff4e91b7b8",
   "metadata": {},
   "source": [
    "## Creating data loaders (preparing the data)\n",
    "\n",
    "We'll use the `ImageDataGenerator` class to load in our images in batches."
   ]
  },
  {
   "cell_type": "code",
   "execution_count": 8,
   "id": "56f6c2f5-d4f6-4859-951a-418e0bba3d4a",
   "metadata": {},
   "outputs": [
    {
     "name": "stdout",
     "output_type": "stream",
     "text": [
      "Training images:\n",
      "Found 750 images belonging to 10 classes.\n",
      "Testing images:\n",
      "Found 2500 images belonging to 10 classes.\n"
     ]
    }
   ],
   "source": [
    "# Setup data inputs\n",
    "from tensorflow.keras.preprocessing.image import ImageDataGenerator\n",
    "\n",
    "IMAGE_SHAPE = (224, 224)\n",
    "BATCH_SIZE = 32\n",
    "RESCALE_NUMBER = 1/255.\n",
    "\n",
    "train_dir = \"10_food_classes_10_percent/train/\"\n",
    "test_dir = \"10_food_classes_10_percent/test/\"\n",
    "\n",
    "train_datagen = ImageDataGenerator(rescale=RESCALE_NUMBER)\n",
    "test_datagen = ImageDataGenerator(rescale=RESCALE_NUMBER)\n",
    "\n",
    "print(\"Training images:\")\n",
    "train_data_10_percent = train_datagen.flow_from_directory(train_dir,\n",
    "                                                          target_size=IMAGE_SHAPE,\n",
    "                                                          batch_size=BATCH_SIZE,\n",
    "                                                          class_mode=\"categorical\")\n",
    "print(\"Testing images:\")\n",
    "test_data = test_datagen.flow_from_directory(test_dir,\n",
    "                                             target_size=IMAGE_SHAPE,\n",
    "                                             batch_size=BATCH_SIZE,\n",
    "                                             class_mode=\"categorical\")"
   ]
  },
  {
   "cell_type": "markdown",
   "id": "5e1f663e-06dd-42ee-a5f7-1f943167f7cc",
   "metadata": {},
   "source": [
    "## Setting up callbacks (things to run whilst our model trains)\n",
    "\n",
    "Callbacks are extra functionality you can add to your models to be performed during or after training. Some of the most popular callbacks:\n",
    "\n",
    "* Tracking experiments with the TensorBoard callback\n",
    "* Model checkpoint with the ModelCheckpoint callback\n",
    "* Stopping a model from training (before it trains too long and overfits) with the EarlyStopping callback"
   ]
  },
  {
   "cell_type": "code",
   "execution_count": 10,
   "id": "f34e4172-6843-47f1-8cca-41594a7a64cf",
   "metadata": {},
   "outputs": [],
   "source": [
    "# Create TensforBoard callback (functionalized because we need to create a new one for each model)\n",
    "import datetime\n",
    "\n",
    "def create_tensorboard_callback(dir_name, experiment_name):\n",
    "    log_dir = dir_name + \"/\" + experiment_name + \"/\" + datetime.datetime.now().strftime(\"%Y%m%d-%H%M\")\n",
    "    tensorboard_callback = tf.keras.callbacks.TensorBoard(log_dir=log_dir)\n",
    "    print(f\"Saving TensorBoard log files to: {log_dir}\")\n",
    "    return tensorboard_callback"
   ]
  },
  {
   "cell_type": "markdown",
   "id": "ec050757-34e5-471b-add1-0c4ffbe08834",
   "metadata": {},
   "source": [
    "## Creating models using TensorflowHub\n",
    "\n",
    "`TensorFlow Hub` is a repository of trained machine learning models.\n",
    "\n",
    "https://www.tensorflow.org/hub\n",
    "\n",
    "In the past we've used TensorFlow to create our own models layer by layer from scratch.\n",
    "\n",
    "Now we're going to do a similar process, except the majority of our model's layers are going to come from TensorFlow Hub.\n",
    "\n",
    "We can access pretrained models on: https://tfhub.dev/ or https://www.kaggle.com/models?tfhub-redirect=true"
   ]
  },
  {
   "cell_type": "code",
   "execution_count": null,
   "id": "e6003d70-1c18-43e5-b7be-93ba1b776064",
   "metadata": {},
   "outputs": [],
   "source": []
  }
 ],
 "metadata": {
  "kernelspec": {
   "display_name": "Python 3 (ipykernel)",
   "language": "python",
   "name": "python3"
  },
  "language_info": {
   "codemirror_mode": {
    "name": "ipython",
    "version": 3
   },
   "file_extension": ".py",
   "mimetype": "text/x-python",
   "name": "python",
   "nbconvert_exporter": "python",
   "pygments_lexer": "ipython3",
   "version": "3.12.9"
  }
 },
 "nbformat": 4,
 "nbformat_minor": 5
}
