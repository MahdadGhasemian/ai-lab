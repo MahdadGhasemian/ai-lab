{
  "cells": [
    {
      "cell_type": "markdown",
      "id": "ecf566a5-81fc-46c0-b962-e900bb0292a1",
      "metadata": {
        "id": "ecf566a5-81fc-46c0-b962-e900bb0292a1"
      },
      "source": [
        "# Transfer learning with TensorFlow Part 1: Feature Extraction\n",
        "\n",
        "Transfer learning is leveraging a working model's existing architecture and learned patterns for our own problem.\n",
        "\n",
        "There are two main benefits:\n",
        "1. Can leverage a working neural network architecture proven to work on problems similar to our own.\n",
        "2. Can leverage a working neural network architecture which has already learned patterns on similar data to our own, then we can adapt those patterns to our own data"
      ]
    },
    {
      "cell_type": "markdown",
      "id": "794a9a63-e1fd-4198-aac7-cc13a014318d",
      "metadata": {
        "id": "794a9a63-e1fd-4198-aac7-cc13a014318d"
      },
      "source": [
        "<img src=\"https://raw.githubusercontent.com/MahdadGhasemian/ai-lab/main/colab-notebooks/images/why-use-transfer-learning.png\" />"
      ]
    },
    {
      "cell_type": "code",
      "execution_count": 2,
      "id": "8b742cc0-572f-4eb5-ae11-0957cd9ab9d9",
      "metadata": {
        "colab": {
          "base_uri": "https://localhost:8080/"
        },
        "id": "8b742cc0-572f-4eb5-ae11-0957cd9ab9d9",
        "outputId": "3ee71345-af11-4ae3-ecf9-203eb03013fe"
      },
      "outputs": [
        {
          "output_type": "stream",
          "name": "stdout",
          "text": [
            "Sun Sep 14 06:22:17 2025       \n",
            "+-----------------------------------------------------------------------------------------+\n",
            "| NVIDIA-SMI 550.54.15              Driver Version: 550.54.15      CUDA Version: 12.4     |\n",
            "|-----------------------------------------+------------------------+----------------------+\n",
            "| GPU  Name                 Persistence-M | Bus-Id          Disp.A | Volatile Uncorr. ECC |\n",
            "| Fan  Temp   Perf          Pwr:Usage/Cap |           Memory-Usage | GPU-Util  Compute M. |\n",
            "|                                         |                        |               MIG M. |\n",
            "|=========================================+========================+======================|\n",
            "|   0  Tesla T4                       Off |   00000000:00:04.0 Off |                    0 |\n",
            "| N/A   70C    P8             11W /   70W |       0MiB /  15360MiB |      0%      Default |\n",
            "|                                         |                        |                  N/A |\n",
            "+-----------------------------------------+------------------------+----------------------+\n",
            "                                                                                         \n",
            "+-----------------------------------------------------------------------------------------+\n",
            "| Processes:                                                                              |\n",
            "|  GPU   GI   CI        PID   Type   Process name                              GPU Memory |\n",
            "|        ID   ID                                                               Usage      |\n",
            "|=========================================================================================|\n",
            "|  No running processes found                                                             |\n",
            "+-----------------------------------------------------------------------------------------+\n"
          ]
        }
      ],
      "source": [
        "# Are we using a GPU?\n",
        "!nvidia-smi"
      ]
    },
    {
      "cell_type": "markdown",
      "source": [
        "## Functions"
      ],
      "metadata": {
        "id": "plusLDY5R2kw"
      },
      "id": "plusLDY5R2kw"
    },
    {
      "cell_type": "code",
      "source": [
        "import matplotlib.pyplot as plt\n",
        "import matplotlib.image as mpimg\n",
        "import random\n",
        "\n",
        "# Plot the validation and training curves separetly\n",
        "def plot_loss_curves(history):\n",
        "  \"\"\"\n",
        "  Returns separate loss curves for training and validation metrics.\n",
        "  \"\"\"\n",
        "  loss = history.history[\"loss\"]\n",
        "  val_loss = history.history[\"val_loss\"]\n",
        "\n",
        "  accuracy = history.history[\"accuracy\"]\n",
        "  val_accuracy = history.history[\"val_accuracy\"]\n",
        "\n",
        "  # How many epochs did we run for?\n",
        "  epochs = range(len(history.history[\"loss\"]))\n",
        "\n",
        "  # Plot loss\n",
        "  plt.plot(epochs, loss, label=\"training_loss\")\n",
        "  plt.plot(epochs, val_loss, label=\"val_loss\")\n",
        "  plt.title(\"Loss\")\n",
        "  plt.xlabel(\"Epochs\")\n",
        "  plt.legend()\n",
        "\n",
        "  # Plot accuracy\n",
        "  plt.figure()\n",
        "  plt.plot(epochs, accuracy, label=\"training_accuracy\")\n",
        "  plt.plot(epochs, val_accuracy, label=\"val_accuracy\")\n",
        "  plt.title(\"Accuracy\")\n",
        "  plt.xlabel(\"Epochs\")\n",
        "  plt.legend()"
      ],
      "metadata": {
        "id": "3Hn_qzCuR4Ux"
      },
      "id": "3Hn_qzCuR4Ux",
      "execution_count": 30,
      "outputs": []
    },
    {
      "cell_type": "markdown",
      "id": "e78f578b-7812-4bc2-aa63-ca4108d81898",
      "metadata": {
        "id": "e78f578b-7812-4bc2-aa63-ca4108d81898"
      },
      "source": [
        "## Downloading and becoming one with data"
      ]
    },
    {
      "cell_type": "code",
      "execution_count": null,
      "id": "5f0aaa7c-6f25-41c5-92f3-2eac8e50b32f",
      "metadata": {
        "id": "5f0aaa7c-6f25-41c5-92f3-2eac8e50b32f"
      },
      "outputs": [],
      "source": [
        "# Get data (10% of 10 food classes from Food101)"
      ]
    },
    {
      "cell_type": "code",
      "execution_count": 10,
      "id": "d1276fc9-095f-4fca-9700-a85e52ec5cd3",
      "metadata": {
        "colab": {
          "base_uri": "https://localhost:8080/"
        },
        "id": "d1276fc9-095f-4fca-9700-a85e52ec5cd3",
        "outputId": "94eeb364-2345-4aef-b857-4b72fbceb2c2"
      },
      "outputs": [
        {
          "output_type": "stream",
          "name": "stdout",
          "text": [
            "--2025-09-14 07:43:58--  https://storage.googleapis.com/ztm_tf_course/food_vision/10_food_classes_10_percent.zip\n",
            "Resolving storage.googleapis.com (storage.googleapis.com)... 142.251.2.207, 142.250.141.207, 74.125.137.207, ...\n",
            "Connecting to storage.googleapis.com (storage.googleapis.com)|142.251.2.207|:443... connected.\n",
            "HTTP request sent, awaiting response... 200 OK\n",
            "Length: 168546183 (161M) [application/zip]\n",
            "Saving to: ‘10_food_classes_10_percent.zip’\n",
            "\n",
            "10_food_classes_10_ 100%[===================>] 160.74M   267MB/s    in 0.6s    \n",
            "\n",
            "2025-09-14 07:43:59 (267 MB/s) - ‘10_food_classes_10_percent.zip’ saved [168546183/168546183]\n",
            "\n"
          ]
        }
      ],
      "source": [
        "# Downlaod via original link:\n",
        "!wget https://storage.googleapis.com/ztm_tf_course/food_vision/10_food_classes_10_percent.zip"
      ]
    },
    {
      "cell_type": "code",
      "execution_count": null,
      "id": "0102964c-b35a-4c7a-b2e9-75c5fa5c07d9",
      "metadata": {
        "id": "0102964c-b35a-4c7a-b2e9-75c5fa5c07d9",
        "outputId": "5f20a1c9-bad0-45b4-8613-91ba6db16efd"
      },
      "outputs": [
        {
          "name": "stdout",
          "output_type": "stream",
          "text": [
            "Looking in indexes: https://pypi.org/simple, https://pypi.ngc.nvidia.com\n",
            "Requirement already satisfied: gdown in /opt/conda/lib/python3.12/site-packages (5.2.0)\n",
            "Requirement already satisfied: beautifulsoup4 in /opt/conda/lib/python3.12/site-packages (from gdown) (4.13.3)\n",
            "Requirement already satisfied: filelock in /opt/conda/lib/python3.12/site-packages (from gdown) (3.13.1)\n",
            "Requirement already satisfied: requests[socks] in /opt/conda/lib/python3.12/site-packages (from gdown) (2.32.3)\n",
            "Requirement already satisfied: tqdm in /opt/conda/lib/python3.12/site-packages (from gdown) (4.67.1)\n",
            "Requirement already satisfied: soupsieve>1.2 in /opt/conda/lib/python3.12/site-packages (from beautifulsoup4->gdown) (2.5)\n",
            "Requirement already satisfied: typing-extensions>=4.0.0 in /opt/conda/lib/python3.12/site-packages (from beautifulsoup4->gdown) (4.12.2)\n",
            "Requirement already satisfied: charset_normalizer<4,>=2 in /opt/conda/lib/python3.12/site-packages (from requests[socks]->gdown) (3.4.1)\n",
            "Requirement already satisfied: idna<4,>=2.5 in /opt/conda/lib/python3.12/site-packages (from requests[socks]->gdown) (3.10)\n",
            "Requirement already satisfied: urllib3<3,>=1.21.1 in /opt/conda/lib/python3.12/site-packages (from requests[socks]->gdown) (2.3.0)\n",
            "Requirement already satisfied: certifi>=2017.4.17 in /opt/conda/lib/python3.12/site-packages (from requests[socks]->gdown) (2025.1.31)\n",
            "Requirement already satisfied: PySocks!=1.5.7,>=1.5.6 in /opt/conda/lib/python3.12/site-packages (from requests[socks]->gdown) (1.7.1)\n"
          ]
        },
        {
          "name": "stderr",
          "output_type": "stream",
          "text": [
            "Downloading...\n",
            "From (original): https://drive.google.com/uc?id=1kSdKFxen5jURm0I6v9WBXciXr2uq9KDV\n",
            "From (redirected): https://drive.google.com/uc?id=1kSdKFxen5jURm0I6v9WBXciXr2uq9KDV&confirm=t&uuid=1356d029-b4a4-40ad-9f63-bbd5ca7568ae\n",
            "To: /home/jovyan/10_food_classes_10_percent.zip\n",
            "100% 169M/169M [00:25<00:00, 6.65MB/s] "
          ]
        },
        {
          "name": "stdout",
          "output_type": "stream",
          "text": [
            "Download completed!\n"
          ]
        },
        {
          "name": "stderr",
          "output_type": "stream",
          "text": [
            "\n"
          ]
        }
      ],
      "source": [
        "# Donwload via mirorred link\n",
        "!pip install gdown\n",
        "\n",
        "import gdown\n",
        "\n",
        "# Google Drive file ID\n",
        "file_id = \"1kSdKFxen5jURm0I6v9WBXciXr2uq9KDV\"\n",
        "url = f\"https://drive.google.com/uc?id={file_id}\"\n",
        "\n",
        "# Download and save as zip\n",
        "output = \"10_food_classes_10_percent.zip\"\n",
        "gdown.download(url, output, quiet=False)\n",
        "\n",
        "print(\"Download completed!\")"
      ]
    },
    {
      "cell_type": "code",
      "execution_count": 11,
      "id": "24006853-56d9-4eca-8e1b-5d3a5403e522",
      "metadata": {
        "id": "24006853-56d9-4eca-8e1b-5d3a5403e522"
      },
      "outputs": [],
      "source": [
        "# Extract the data\n",
        "import zipfile\n",
        "\n",
        "zip_ref = zipfile.ZipFile(\"10_food_classes_10_percent.zip\")\n",
        "zip_ref.extractall()\n",
        "zip_ref.close()"
      ]
    },
    {
      "cell_type": "code",
      "execution_count": 12,
      "id": "914d7788-f5ae-4a16-9777-d79c29c86c13",
      "metadata": {
        "colab": {
          "base_uri": "https://localhost:8080/"
        },
        "id": "914d7788-f5ae-4a16-9777-d79c29c86c13",
        "outputId": "0e9e2d0a-9027-4891-ab61-c81f595cc24a"
      },
      "outputs": [
        {
          "output_type": "stream",
          "name": "stdout",
          "text": [
            "There are 2 directories and 0 images in '10_food_classes_10_percent'\n",
            "There are 10 directories and 0 images in '10_food_classes_10_percent/train'\n",
            "There are 0 directories and 75 images in '10_food_classes_10_percent/train/pizza'\n",
            "There are 0 directories and 75 images in '10_food_classes_10_percent/train/chicken_wings'\n",
            "There are 0 directories and 75 images in '10_food_classes_10_percent/train/chicken_curry'\n",
            "There are 0 directories and 75 images in '10_food_classes_10_percent/train/steak'\n",
            "There are 0 directories and 75 images in '10_food_classes_10_percent/train/hamburger'\n",
            "There are 0 directories and 75 images in '10_food_classes_10_percent/train/ice_cream'\n",
            "There are 0 directories and 75 images in '10_food_classes_10_percent/train/sushi'\n",
            "There are 0 directories and 75 images in '10_food_classes_10_percent/train/grilled_salmon'\n",
            "There are 0 directories and 75 images in '10_food_classes_10_percent/train/ramen'\n",
            "There are 0 directories and 75 images in '10_food_classes_10_percent/train/fried_rice'\n",
            "There are 10 directories and 0 images in '10_food_classes_10_percent/test'\n",
            "There are 0 directories and 250 images in '10_food_classes_10_percent/test/pizza'\n",
            "There are 0 directories and 250 images in '10_food_classes_10_percent/test/chicken_wings'\n",
            "There are 0 directories and 250 images in '10_food_classes_10_percent/test/chicken_curry'\n",
            "There are 0 directories and 250 images in '10_food_classes_10_percent/test/steak'\n",
            "There are 0 directories and 250 images in '10_food_classes_10_percent/test/hamburger'\n",
            "There are 0 directories and 250 images in '10_food_classes_10_percent/test/ice_cream'\n",
            "There are 0 directories and 250 images in '10_food_classes_10_percent/test/sushi'\n",
            "There are 0 directories and 250 images in '10_food_classes_10_percent/test/grilled_salmon'\n",
            "There are 0 directories and 250 images in '10_food_classes_10_percent/test/ramen'\n",
            "There are 0 directories and 250 images in '10_food_classes_10_percent/test/fried_rice'\n"
          ]
        }
      ],
      "source": [
        "# How many images in each folder?\n",
        "import os\n",
        "\n",
        "# Walk through 10 percent data directory and list number of files\n",
        "for dirpath, dirnames, filenames in os.walk(\"10_food_classes_10_percent\"):\n",
        "    print(f\"There are {len(dirnames)} directories and {len(filenames)} images in '{dirpath}'\")"
      ]
    },
    {
      "cell_type": "markdown",
      "id": "fbe2d392-5d57-4cb2-bbb3-ddff4e91b7b8",
      "metadata": {
        "id": "fbe2d392-5d57-4cb2-bbb3-ddff4e91b7b8"
      },
      "source": [
        "## Creating data loaders (preparing the data)\n",
        "\n",
        "We'll use the `ImageDataGenerator` class to load in our images in batches."
      ]
    },
    {
      "cell_type": "code",
      "execution_count": 13,
      "id": "56f6c2f5-d4f6-4859-951a-418e0bba3d4a",
      "metadata": {
        "colab": {
          "base_uri": "https://localhost:8080/"
        },
        "id": "56f6c2f5-d4f6-4859-951a-418e0bba3d4a",
        "outputId": "ca29c5a0-bfbe-45ba-ab64-787d695bf95f"
      },
      "outputs": [
        {
          "output_type": "stream",
          "name": "stdout",
          "text": [
            "Training images:\n",
            "Found 750 images belonging to 10 classes.\n",
            "Testing images:\n",
            "Found 2500 images belonging to 10 classes.\n"
          ]
        }
      ],
      "source": [
        "# Setup data inputs\n",
        "from tensorflow.keras.preprocessing.image import ImageDataGenerator\n",
        "\n",
        "IMAGE_SHAPE = (224, 224)\n",
        "BATCH_SIZE = 32\n",
        "RESCALE_NUMBER = 1/255.\n",
        "\n",
        "train_dir = \"10_food_classes_10_percent/train/\"\n",
        "test_dir = \"10_food_classes_10_percent/test/\"\n",
        "\n",
        "train_datagen = ImageDataGenerator(rescale=RESCALE_NUMBER)\n",
        "test_datagen = ImageDataGenerator(rescale=RESCALE_NUMBER)\n",
        "\n",
        "print(\"Training images:\")\n",
        "train_data_10_percent = train_datagen.flow_from_directory(train_dir,\n",
        "                                                          target_size=IMAGE_SHAPE,\n",
        "                                                          batch_size=BATCH_SIZE,\n",
        "                                                          class_mode=\"categorical\")\n",
        "print(\"Testing images:\")\n",
        "test_data = test_datagen.flow_from_directory(test_dir,\n",
        "                                             target_size=IMAGE_SHAPE,\n",
        "                                             batch_size=BATCH_SIZE,\n",
        "                                             class_mode=\"categorical\")"
      ]
    },
    {
      "cell_type": "markdown",
      "id": "5e1f663e-06dd-42ee-a5f7-1f943167f7cc",
      "metadata": {
        "id": "5e1f663e-06dd-42ee-a5f7-1f943167f7cc"
      },
      "source": [
        "## Setting up callbacks (things to run whilst our model trains)\n",
        "\n",
        "Callbacks are extra functionality you can add to your models to be performed during or after training. Some of the most popular callbacks:\n",
        "\n",
        "* Tracking experiments with the TensorBoard callback\n",
        "* Model checkpoint with the ModelCheckpoint callback\n",
        "* Stopping a model from training (before it trains too long and overfits) with the EarlyStopping callback"
      ]
    },
    {
      "cell_type": "code",
      "execution_count": 14,
      "id": "f34e4172-6843-47f1-8cca-41594a7a64cf",
      "metadata": {
        "id": "f34e4172-6843-47f1-8cca-41594a7a64cf"
      },
      "outputs": [],
      "source": [
        "# Create TensforBoard callback (functionalized because we need to create a new one for each model)\n",
        "import datetime\n",
        "import tensorflow as tf\n",
        "\n",
        "def create_tensorboard_callback(dir_name, experiment_name):\n",
        "    log_dir = dir_name + \"/\" + experiment_name + \"/\" + datetime.datetime.now().strftime(\"%Y%m%d-%H%M\")\n",
        "    tensorboard_callback = tf.keras.callbacks.TensorBoard(log_dir=log_dir)\n",
        "    print(f\"Saving TensorBoard log files to: {log_dir}\")\n",
        "    return tensorboard_callback"
      ]
    },
    {
      "cell_type": "markdown",
      "id": "ec050757-34e5-471b-add1-0c4ffbe08834",
      "metadata": {
        "id": "ec050757-34e5-471b-add1-0c4ffbe08834"
      },
      "source": [
        "## Creating models using TensorflowHub\n",
        "\n",
        "`TensorFlow Hub` is a repository of trained machine learning models.\n",
        "\n",
        "https://www.tensorflow.org/hub\n",
        "\n",
        "In the past we've used TensorFlow to create our own models layer by layer from scratch.\n",
        "\n",
        "Now we're going to do a similar process, except the majority of our model's layers are going to come from TensorFlow Hub.\n",
        "\n",
        "We can access pretrained models on: https://tfhub.dev/ or https://www.kaggle.com/models?tfhub-redirect=true\n",
        "\n",
        "Browsing the TensorFlow Hub page (kaggle.com/models/) and sorting for image classifciation, we found the following feature vector model link:\n",
        "https://www.kaggle.com/models/tensorflow/efficientnet/TensorFlow2/b0-classification/1"
      ]
    },
    {
      "cell_type": "code",
      "source": [
        "!pip install tf_keras --quiet\n",
        "\n",
        "import tensorflow as tf\n",
        "import keras\n",
        "import tf_keras\n",
        "\n",
        "print(\"TensorFlow version:\", tf.__version__)\n",
        "print(\"Keras version:\", keras.__version__)\n",
        "print(\"tf_keras version:\", tf_keras.__version__)\n"
      ],
      "metadata": {
        "colab": {
          "base_uri": "https://localhost:8080/"
        },
        "id": "HnFBDMip0vw7",
        "outputId": "8ab037dc-fcf8-4f8c-ec0d-1cdad5c240c7"
      },
      "id": "HnFBDMip0vw7",
      "execution_count": 3,
      "outputs": [
        {
          "output_type": "stream",
          "name": "stdout",
          "text": [
            "TensorFlow version: 2.19.0\n",
            "Keras version: 3.10.0\n",
            "tf_keras version: 2.19.0\n"
          ]
        }
      ]
    },
    {
      "cell_type": "code",
      "execution_count": 8,
      "id": "e6003d70-1c18-43e5-b7be-93ba1b776064",
      "metadata": {
        "id": "e6003d70-1c18-43e5-b7be-93ba1b776064"
      },
      "outputs": [],
      "source": [
        "# Let's compare the following two models\n",
        "resnet_url = \"https://www.kaggle.com/models/google/resnet-v2/TensorFlow2/101-classification/2\"\n",
        "\n",
        "efficientnet_url = \"https://www.kaggle.com/models/tensorflow/efficientnet/TensorFlow2/b0-classification/1\"\n"
      ]
    },
    {
      "cell_type": "code",
      "source": [
        "# Import depndencies\n",
        "import tensorflow as tf\n",
        "import tensorflow_hub as hub\n",
        "import tf_keras as keras"
      ],
      "metadata": {
        "id": "BOBY9AL7saP5"
      },
      "id": "BOBY9AL7saP5",
      "execution_count": 4,
      "outputs": []
    },
    {
      "cell_type": "code",
      "source": [
        "# Let's make a create_model() function to create a model from a URL\n",
        "def create_model(model_url, num_classes=10):\n",
        "  \"\"\"\n",
        "  Takes a TensorFlow Hub URL and creates a Keras Sequential model with it.\n",
        "  New TensforFlow Hub URL is Kaggle/models\n",
        "\n",
        "  Args:\n",
        "    model_url (str): A TensorFlow Hub feature extraction URL.\n",
        "    num_classes (int): Number of output neurons in the output layer,\n",
        "      should be equal to number of target classes, default to 10.\n",
        "\n",
        "  Returns:\n",
        "    An uncompiled Keras Sequential model with model_url as feature extractor\n",
        "    layer and Dense output layer with num_classes output neurons.\n",
        "  \"\"\"\n",
        "\n",
        "  # Download the pertrained model and save it as a keras layer\n",
        "  feature_extractor_layer = hub.KerasLayer(model_url,\n",
        "                                           trainable=False, # freese the already learned patters\n",
        "                                           name=\"feature_extractor_layer\",\n",
        "                                           input_shape=IMAGE_SHAPE+(3,))\n",
        "\n",
        "  # Create our own model\n",
        "  model = keras.Sequential([\n",
        "      feature_extractor_layer,\n",
        "      keras.layers.Dense(num_classes, activation=\"softmax\", name=\"output_layer\")\n",
        "  ])\n",
        "\n",
        "  return model"
      ],
      "metadata": {
        "id": "HmSTEVD0slT_"
      },
      "id": "HmSTEVD0slT_",
      "execution_count": 16,
      "outputs": []
    },
    {
      "cell_type": "markdown",
      "source": [
        "### Creating and testing ResNet TensorFlow Hub Feature Extraction model"
      ],
      "metadata": {
        "id": "bOrlPo4Hu244"
      },
      "id": "bOrlPo4Hu244"
    },
    {
      "cell_type": "code",
      "source": [
        "# Create Resnet model\n",
        "resnet_model = create_model(resnet_url,\n",
        "                            num_classes=train_data_10_percent.num_classes)\n",
        "\n",
        "resnet_model.summary()"
      ],
      "metadata": {
        "colab": {
          "base_uri": "https://localhost:8080/"
        },
        "id": "_4u6e_tyuwfs",
        "outputId": "bd906712-1f57-4ec9-dd82-71616041db60"
      },
      "id": "_4u6e_tyuwfs",
      "execution_count": 19,
      "outputs": [
        {
          "output_type": "stream",
          "name": "stdout",
          "text": [
            "Model: \"sequential_2\"\n",
            "_________________________________________________________________\n",
            " Layer (type)                Output Shape              Param #   \n",
            "=================================================================\n",
            " feature_extractor_layer (K  (None, 1001)              44677609  \n",
            " erasLayer)                                                      \n",
            "                                                                 \n",
            " output_layer (Dense)        (None, 10)                10020     \n",
            "                                                                 \n",
            "=================================================================\n",
            "Total params: 44687629 (170.47 MB)\n",
            "Trainable params: 10020 (39.14 KB)\n",
            "Non-trainable params: 44677609 (170.43 MB)\n",
            "_________________________________________________________________\n"
          ]
        }
      ]
    },
    {
      "cell_type": "code",
      "source": [
        "# Compile our resnet model\n",
        "resnet_model.compile(loss=\"categorical_crossentropy\",\n",
        "                     optimizer=\"adam\",\n",
        "                     metrics=[\"accuracy\"])"
      ],
      "metadata": {
        "id": "ktVb1tzVN7Ty"
      },
      "id": "ktVb1tzVN7Ty",
      "execution_count": 21,
      "outputs": []
    },
    {
      "cell_type": "code",
      "source": [
        "# Let's fit out ResNet model to the data (10 percent of 10 classes)\n",
        "import tf_keras as keras\n",
        "from tf_keras.callbacks import TensorBoard\n",
        "import datetime\n",
        "\n",
        "# Create log dir\n",
        "log_dir = \"tensorflow_hub/resnet50V2/\" + datetime.datetime.now().strftime(\"%Y%m%d-%H%M%S\")\n",
        "\n",
        "# Proper TensorBoard callback\n",
        "tensorboard_callback = TensorBoard(log_dir=log_dir, histogram_freq=1)\n",
        "\n",
        "resnet_history = resnet_model.fit(train_data_10_percent,\n",
        "                                  epochs=5,\n",
        "                                  steps_per_epoch=len(train_data_10_percent),\n",
        "                                  validation_data=test_data,\n",
        "                                  validation_steps=len(test_data),\n",
        "                                  callbacks=[tensorboard_callback])"
      ],
      "metadata": {
        "colab": {
          "base_uri": "https://localhost:8080/"
        },
        "id": "vLvzeaB4OoPe",
        "outputId": "8fa48a6c-04b7-4afe-9e5d-d719ffbbb15b"
      },
      "id": "vLvzeaB4OoPe",
      "execution_count": 29,
      "outputs": [
        {
          "output_type": "stream",
          "name": "stdout",
          "text": [
            "Epoch 1/5\n",
            "24/24 [==============================] - 28s 1s/step - loss: 0.6133 - accuracy: 0.8147 - val_loss: 0.7780 - val_accuracy: 0.7440\n",
            "Epoch 2/5\n",
            "24/24 [==============================] - 27s 1s/step - loss: 0.4965 - accuracy: 0.8453 - val_loss: 0.7298 - val_accuracy: 0.7536\n",
            "Epoch 3/5\n",
            "24/24 [==============================] - 27s 1s/step - loss: 0.3763 - accuracy: 0.8947 - val_loss: 0.7279 - val_accuracy: 0.7588\n",
            "Epoch 4/5\n",
            "24/24 [==============================] - 37s 2s/step - loss: 0.3195 - accuracy: 0.9227 - val_loss: 0.6864 - val_accuracy: 0.7760\n",
            "Epoch 5/5\n",
            "24/24 [==============================] - 28s 1s/step - loss: 0.2798 - accuracy: 0.9293 - val_loss: 0.7004 - val_accuracy: 0.7672\n"
          ]
        }
      ]
    },
    {
      "cell_type": "code",
      "source": [
        "# Check out the model_9 loss curves\n",
        "plot_loss_curves(resnet_history)"
      ],
      "metadata": {
        "id": "RCCDxS3ISATA",
        "outputId": "81436fa4-a7bf-4f2a-8ab1-41d671db1e3b",
        "colab": {
          "base_uri": "https://localhost:8080/",
          "height": 927
        }
      },
      "id": "RCCDxS3ISATA",
      "execution_count": 31,
      "outputs": [
        {
          "output_type": "display_data",
          "data": {
            "text/plain": [
              "<Figure size 640x480 with 1 Axes>"
            ],
            "image/png": "[encoded data removed]"
          },
          "metadata": {}
        },
        {
          "output_type": "display_data",
          "data": {
            "text/plain": [
              "<Figure size 640x480 with 1 Axes>"
            ],
            "image/png": "[encoded data removed]"
          },
          "metadata": {}
        }
      ]
    }
  ],
  "metadata": {
    "kernelspec": {
      "display_name": "Python 3",
      "name": "python3"
    },
    "language_info": {
      "codemirror_mode": {
        "name": "ipython",
        "version": 3
      },
      "file_extension": ".py",
      "mimetype": "text/x-python",
      "name": "python",
      "nbconvert_exporter": "python",
      "pygments_lexer": "ipython3",
      "version": "3.12.9"
    },
    "colab": {
      "provenance": [],
      "gpuType": "T4"
    },
    "accelerator": "GPU"
  },
  "nbformat": 4,
  "nbformat_minor": 5
}