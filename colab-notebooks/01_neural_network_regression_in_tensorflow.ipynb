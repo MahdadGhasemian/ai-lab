{
 "cells": [
  {
   "cell_type": "markdown",
   "id": "0e7d7be7",
   "metadata": {},
   "source": [
    "# Introduction to Regression with Neural Networks in TensorFlow\n",
    "\n",
    "There are many definitions for a regression problem but in our case, wer're going to simplify it: predicting a numberical variable based on some other combination of variables, even shorter... predicting a number."
   ]
  }
 ],
 "metadata": {
  "language_info": {
   "name": "python"
  }
 },
 "nbformat": 4,
 "nbformat_minor": 5
}
