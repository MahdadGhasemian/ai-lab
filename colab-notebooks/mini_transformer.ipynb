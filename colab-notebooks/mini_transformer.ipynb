{
 "cells": [
  {
   "cell_type": "markdown",
   "id": "b56388c5",
   "metadata": {},
   "source": [
    "🔹 Mini Transformer Block (TensorFlow / Keras)"
   ]
  }
 ],
 "metadata": {
  "language_info": {
   "name": "python"
  }
 },
 "nbformat": 4,
 "nbformat_minor": 5
}
